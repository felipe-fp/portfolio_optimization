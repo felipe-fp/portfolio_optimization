{
  "nbformat": 4,
  "nbformat_minor": 0,
  "metadata": {
    "colab": {
      "name": "Untitled24.ipynb",
      "provenance": []
    },
    "kernelspec": {
      "name": "python3",
      "display_name": "Python 3",
      "language": "python"
    },
    "accelerator": "GPU"
  },
  "cells": [
    {
      "cell_type": "code",
      "metadata": {
        "colab": {
          "base_uri": "https://localhost:8080/"
        },
        "id": "9htdV4_O-OPx",
        "outputId": "8d3a4080-5b6e-4365-f75c-b12915b6953f"
      },
      "source": [
        "!pip install cvxpy "
      ],
      "execution_count": 1,
      "outputs": [
        {
          "output_type": "stream",
          "name": "stdout",
          "text": [
            "Collecting cvxpy\n",
            "  Downloading cvxpy-1.1.11.tar.gz (1.3 MB)\n",
            "\u001b[K     |████████████████████████████████| 1.3 MB 7.1 MB/s \n",
            "\u001b[?25h  Installing build dependencies ... \u001b[?25ldone\n",
            "\u001b[?25h  Getting requirements to build wheel ... \u001b[?25ldone\n",
            "\u001b[?25h    Preparing wheel metadata ... \u001b[?25ldone\n",
            "\u001b[?25hCollecting osqp>=0.4.1\n",
            "  Downloading osqp-0.6.2.post0-cp36-cp36m-macosx_10_9_x86_64.whl (163 kB)\n",
            "\u001b[K     |████████████████████████████████| 163 kB 8.1 MB/s \n",
            "\u001b[?25hCollecting scs>=1.1.6\n",
            "  Using cached scs-2.1.2.tar.gz (3.5 MB)\n",
            "Collecting ecos>=2\n",
            "  Downloading ecos-2.0.7.post1-cp36-cp36m-macosx_10_13_x86_64.whl (71 kB)\n",
            "\u001b[K     |████████████████████████████████| 71 kB 28 kB/s \n",
            "\u001b[?25hRequirement already satisfied: scipy>=1.1.0 in /Users/felipe/anaconda/lib/python3.6/site-packages (from cvxpy) (1.4.1)\n",
            "Requirement already satisfied: numpy>=1.15 in /Users/felipe/anaconda/lib/python3.6/site-packages (from cvxpy) (1.18.4)\n",
            "Collecting qdldl\n",
            "  Downloading qdldl-0.1.5.post0-cp36-cp36m-macosx_10_9_x86_64.whl (86 kB)\n",
            "\u001b[K     |████████████████████████████████| 86 kB 5.6 MB/s \n",
            "\u001b[?25hBuilding wheels for collected packages: cvxpy, scs\n",
            "  Building wheel for cvxpy (PEP 517) ... \u001b[?25ldone\n",
            "\u001b[?25h  Created wheel for cvxpy: filename=cvxpy-1.1.11-cp36-cp36m-macosx_10_9_x86_64.whl size=850508 sha256=a246e27a1015c5e4d49102953ec66abf816721e1814d10adcaead217b889ec70\n",
            "  Stored in directory: /Users/felipe/Library/Caches/pip/wheels/70/b3/68/28780d5790bbf57b063740df44362984fc94223882d8a7bed6\n",
            "  Building wheel for scs (setup.py) ... \u001b[?25ldone\n",
            "\u001b[?25h  Created wheel for scs: filename=scs-2.1.2-cp36-cp36m-macosx_10_9_x86_64.whl size=118745 sha256=20350ca2f778ebdb4f59e40396ced437690412dd2948344d488f7a638b252cde\n",
            "  Stored in directory: /Users/felipe/Library/Caches/pip/wheels/50/02/c2/0708708e215645196adc1ea78c7dc776b173a37a86deb6a7e7\n",
            "Successfully built cvxpy scs\n",
            "Installing collected packages: qdldl, scs, osqp, ecos, cvxpy\n",
            "Successfully installed cvxpy-1.1.11 ecos-2.0.7.post1 osqp-0.6.2.post0 qdldl-0.1.5.post0 scs-2.1.2\n"
          ]
        }
      ]
    },
    {
      "cell_type": "code",
      "metadata": {
        "colab": {
          "base_uri": "https://localhost:8080/"
        },
        "id": "48S7eEOc-ZCr",
        "outputId": "2bb88213-fd1e-4156-e4ad-993aa95e51b7"
      },
      "source": [
        "!pip install yfinance"
      ],
      "execution_count": 2,
      "outputs": [
        {
          "output_type": "stream",
          "name": "stdout",
          "text": [
            "Requirement already satisfied: yfinance in /Users/felipe/anaconda/envs/fenicsproject/lib/python3.8/site-packages (0.1.55)\n",
            "Requirement already satisfied: requests>=2.20 in /Users/felipe/anaconda/envs/fenicsproject/lib/python3.8/site-packages (from yfinance) (2.23.0)\n",
            "Requirement already satisfied: pandas>=0.24 in /Users/felipe/anaconda/envs/fenicsproject/lib/python3.8/site-packages (from yfinance) (1.0.4)\n",
            "Requirement already satisfied: multitasking>=0.0.7 in /Users/felipe/anaconda/envs/fenicsproject/lib/python3.8/site-packages (from yfinance) (0.0.9)\n",
            "Requirement already satisfied: lxml>=4.5.1 in /Users/felipe/anaconda/envs/fenicsproject/lib/python3.8/site-packages (from yfinance) (4.6.2)\n",
            "Requirement already satisfied: numpy>=1.15 in /Users/felipe/anaconda/envs/fenicsproject/lib/python3.8/site-packages (from yfinance) (1.18.1)\n",
            "Requirement already satisfied: urllib3!=1.25.0,!=1.25.1,<1.26,>=1.21.1 in /Users/felipe/anaconda/envs/fenicsproject/lib/python3.8/site-packages (from requests>=2.20->yfinance) (1.25.9)\n",
            "Requirement already satisfied: idna<3,>=2.5 in /Users/felipe/anaconda/envs/fenicsproject/lib/python3.8/site-packages (from requests>=2.20->yfinance) (2.9)\n",
            "Requirement already satisfied: chardet<4,>=3.0.2 in /Users/felipe/anaconda/envs/fenicsproject/lib/python3.8/site-packages (from requests>=2.20->yfinance) (3.0.4)\n",
            "Requirement already satisfied: certifi>=2017.4.17 in /Users/felipe/anaconda/envs/fenicsproject/lib/python3.8/site-packages (from requests>=2.20->yfinance) (2020.6.20)\n",
            "Requirement already satisfied: python-dateutil>=2.6.1 in /Users/felipe/anaconda/envs/fenicsproject/lib/python3.8/site-packages (from pandas>=0.24->yfinance) (2.8.1)\n",
            "Requirement already satisfied: pytz>=2017.2 in /Users/felipe/anaconda/envs/fenicsproject/lib/python3.8/site-packages (from pandas>=0.24->yfinance) (2020.1)\n",
            "Requirement already satisfied: six>=1.5 in /Users/felipe/anaconda/envs/fenicsproject/lib/python3.8/site-packages (from python-dateutil>=2.6.1->pandas>=0.24->yfinance) (1.14.0)\n"
          ]
        }
      ]
    },
    {
      "cell_type": "code",
      "metadata": {
        "id": "q7s6enBT-1Tn"
      },
      "source": [
        "import pandas as pd \n",
        "df_dataprojets =pd.read_excel('DataProjets.xls', sheet_name=0) \n",
        "df_marketcap = pd.read_excel('DataProjets.xls', sheet_name=1, index_col=0)\n",
        "df_sector = pd.read_excel('DataProjets.xls', sheet_name=2) \n",
        "df_bechmark =pd.read_excel('DataProjets.xls', sheet_name=3, index_col = 0) "
      ],
      "execution_count": 3,
      "outputs": []
    },
    {
      "cell_type": "code",
      "metadata": {
        "id": "R6xhSzMHBtKx",
        "outputId": "8bfc2572-c03e-4f6a-f453-31c3a9916a3c",
        "colab": {
          "base_uri": "https://localhost:8080/"
        }
      },
      "source": [
        "import yfinance \n",
        "\n",
        "tickers = df_dataprojets['Tickers']\n",
        "data_close = pd.DataFrame(yfinance.Ticker(tickers[0]).history(period = '12mo').Close)\n",
        "data_close.columns = [ tickers[0] ]\n",
        "tickers_1 = tickers[1:]\n",
        "for ticker in tickers_1:\n",
        "  ticker_ = pd.DataFrame(yfinance.Ticker(ticker).history(period = '12mo').Close)\n",
        "  ticker_.columns = [ ticker ]\n",
        "  data_close = data_close.join(ticker_, how = 'outer')"
      ],
      "execution_count": 4,
      "outputs": [
        {
          "output_type": "stream",
          "name": "stdout",
          "text": [
            "- CEG: No data found for this date range, symbol may be delisted\n",
            "- CA: No data found for this date range, symbol may be delisted\n",
            "- EP: No data found for this date range, symbol may be delisted\n",
            "- ESRX: No data found for this date range, symbol may be delisted\n",
            "- HNZ: No data found for this date range, symbol may be delisted\n",
            "- AET: No data found for this date range, symbol may be delisted\n",
            "- TWX: No data found for this date range, symbol may be delisted\n",
            "- PBG: No data found for this date range, symbol may be delisted\n",
            "- SOV: No data found for this date range, symbol may be delisted\n",
            "- SVU: No data found for this date range, symbol may be delisted\n",
            "- BLS: No data found for this date range, symbol may be delisted\n",
            "- CIN: No data found for this date range, symbol may be delisted\n",
            "- BOL: No data found for this date range, symbol may be delisted\n",
            "- BMS: No data found for this date range, symbol may be delisted\n",
            "- KRI: No data found for this date range, symbol may be delisted\n",
            "- MOLX: No data found for this date range, symbol may be delisted\n",
            "- ANDV: No data found for this date range, symbol may be delisted\n",
            "- OMX: No data found for this date range, symbol may be delisted\n"
          ]
        }
      ]
    },
    {
      "cell_type": "code",
      "metadata": {
        "id": "du3iZlo3JZtj",
        "outputId": "6955630b-9659-49a0-8525-a9eb0fc6baae",
        "colab": {
          "base_uri": "https://localhost:8080/",
          "height": 640
        }
      },
      "source": [
        "data_close.fillna('ffill')"
      ],
      "execution_count": 5,
      "outputs": [
        {
          "output_type": "execute_result",
          "data": {
            "text/plain": [
              "               AMZN      AES      IBM    AMD    ADBE      APD      BXP  \\\n",
              "Date                                                                     \n",
              "2020-03-05    ffill    ffill    ffill  ffill   ffill    ffill    ffill   \n",
              "2020-03-06  1901.09  16.2689  121.015  48.59  336.77  224.787  126.838   \n",
              "2020-03-09  1800.61  14.1023  111.617  43.27  305.79  200.753  117.539   \n",
              "2020-03-10  1891.82  14.7117  118.211  45.38  332.38  209.981  124.628   \n",
              "2020-03-11  1820.86  13.6961  111.768   45.7  315.23  203.346  116.037   \n",
              "...             ...      ...      ...    ...     ...      ...      ...   \n",
              "2021-03-01  3146.14       27   120.74  86.39  469.57   261.19   101.29   \n",
              "2021-03-02  3094.53    26.81   120.33  84.13  466.59      266   101.39   \n",
              "2021-03-03     3005    26.89   122.36  80.86  448.45   262.34   104.54   \n",
              "2021-03-04  2977.57    25.88   120.11  77.75  439.06   256.43   100.92   \n",
              "2021-03-05  3000.46    25.99   122.83  78.52  440.83   263.82   102.26   \n",
              "\n",
              "                ALL      HON     AA  ...      HPE     INFO      FTI      JHG  \\\n",
              "Date                                 ...                                       \n",
              "2020-03-05    ffill    ffill  ffill  ...    ffill    ffill    ffill    ffill   \n",
              "2020-03-06  104.607  160.448  11.01  ...   11.476  68.6904  9.18155   18.165   \n",
              "2020-03-09  93.3492  149.522   8.69  ...  10.6625  60.1289  6.76957  16.6349   \n",
              "2020-03-10  96.9129  158.159   9.26  ...  11.1462  60.5549  6.94446  17.8271   \n",
              "2020-03-11  90.5764  150.041    9.2  ...  10.2271  59.0388  5.85141  15.6867   \n",
              "...             ...      ...    ...  ...      ...      ...      ...      ...   \n",
              "2021-03-01  108.916   206.22  25.99  ...     14.6    92.52     8.42    30.16   \n",
              "2021-03-02   109.68   206.58   27.5  ...     14.5    91.73     8.45    29.72   \n",
              "2021-03-03   111.26   207.01  30.83  ...    14.56    89.49     8.68    28.88   \n",
              "2021-03-04   109.35   202.94  28.59  ...    14.04    89.25     8.69     28.8   \n",
              "2021-03-05   111.62   206.58  28.99  ...     14.4    90.81     9.26    29.86   \n",
              "\n",
              "                DOW     CTVA     AMCR   CARR   OTIS   VTRS  \n",
              "Date                                                        \n",
              "2020-03-05    ffill    ffill    ffill  ffill  ffill  ffill  \n",
              "2020-03-06  36.8274  24.8742  8.93508  ffill  ffill   15.4  \n",
              "2020-03-09  28.8514  22.6818  8.51325  ffill  ffill  14.38  \n",
              "2020-03-10  29.6736   25.474  8.59954  ffill  ffill  15.08  \n",
              "2020-03-11  26.4511  24.5793  7.66001  ffill  ffill  14.47  \n",
              "...             ...      ...      ...    ...    ...    ...  \n",
              "2021-03-01    61.54    46.27    11.29   37.2  64.93  14.72  \n",
              "2021-03-02    62.73    45.78    11.43  37.14  65.41  14.29  \n",
              "2021-03-03    62.25    45.34    11.47  37.12     67  13.88  \n",
              "2021-03-04     61.2    43.85    11.27  35.52  63.95  13.59  \n",
              "2021-03-05    62.91    44.84    11.61  36.94  64.87  13.91  \n",
              "\n",
              "[253 rows x 561 columns]"
            ],
            "text/html": "<div>\n<style scoped>\n    .dataframe tbody tr th:only-of-type {\n        vertical-align: middle;\n    }\n\n    .dataframe tbody tr th {\n        vertical-align: top;\n    }\n\n    .dataframe thead th {\n        text-align: right;\n    }\n</style>\n<table border=\"1\" class=\"dataframe\">\n  <thead>\n    <tr style=\"text-align: right;\">\n      <th></th>\n      <th>AMZN</th>\n      <th>AES</th>\n      <th>IBM</th>\n      <th>AMD</th>\n      <th>ADBE</th>\n      <th>APD</th>\n      <th>BXP</th>\n      <th>ALL</th>\n      <th>HON</th>\n      <th>AA</th>\n      <th>...</th>\n      <th>HPE</th>\n      <th>INFO</th>\n      <th>FTI</th>\n      <th>JHG</th>\n      <th>DOW</th>\n      <th>CTVA</th>\n      <th>AMCR</th>\n      <th>CARR</th>\n      <th>OTIS</th>\n      <th>VTRS</th>\n    </tr>\n    <tr>\n      <th>Date</th>\n      <th></th>\n      <th></th>\n      <th></th>\n      <th></th>\n      <th></th>\n      <th></th>\n      <th></th>\n      <th></th>\n      <th></th>\n      <th></th>\n      <th></th>\n      <th></th>\n      <th></th>\n      <th></th>\n      <th></th>\n      <th></th>\n      <th></th>\n      <th></th>\n      <th></th>\n      <th></th>\n      <th></th>\n    </tr>\n  </thead>\n  <tbody>\n    <tr>\n      <th>2020-03-05</th>\n      <td>ffill</td>\n      <td>ffill</td>\n      <td>ffill</td>\n      <td>ffill</td>\n      <td>ffill</td>\n      <td>ffill</td>\n      <td>ffill</td>\n      <td>ffill</td>\n      <td>ffill</td>\n      <td>ffill</td>\n      <td>...</td>\n      <td>ffill</td>\n      <td>ffill</td>\n      <td>ffill</td>\n      <td>ffill</td>\n      <td>ffill</td>\n      <td>ffill</td>\n      <td>ffill</td>\n      <td>ffill</td>\n      <td>ffill</td>\n      <td>ffill</td>\n    </tr>\n    <tr>\n      <th>2020-03-06</th>\n      <td>1901.09</td>\n      <td>16.2689</td>\n      <td>121.015</td>\n      <td>48.59</td>\n      <td>336.77</td>\n      <td>224.787</td>\n      <td>126.838</td>\n      <td>104.607</td>\n      <td>160.448</td>\n      <td>11.01</td>\n      <td>...</td>\n      <td>11.476</td>\n      <td>68.6904</td>\n      <td>9.18155</td>\n      <td>18.165</td>\n      <td>36.8274</td>\n      <td>24.8742</td>\n      <td>8.93508</td>\n      <td>ffill</td>\n      <td>ffill</td>\n      <td>15.4</td>\n    </tr>\n    <tr>\n      <th>2020-03-09</th>\n      <td>1800.61</td>\n      <td>14.1023</td>\n      <td>111.617</td>\n      <td>43.27</td>\n      <td>305.79</td>\n      <td>200.753</td>\n      <td>117.539</td>\n      <td>93.3492</td>\n      <td>149.522</td>\n      <td>8.69</td>\n      <td>...</td>\n      <td>10.6625</td>\n      <td>60.1289</td>\n      <td>6.76957</td>\n      <td>16.6349</td>\n      <td>28.8514</td>\n      <td>22.6818</td>\n      <td>8.51325</td>\n      <td>ffill</td>\n      <td>ffill</td>\n      <td>14.38</td>\n    </tr>\n    <tr>\n      <th>2020-03-10</th>\n      <td>1891.82</td>\n      <td>14.7117</td>\n      <td>118.211</td>\n      <td>45.38</td>\n      <td>332.38</td>\n      <td>209.981</td>\n      <td>124.628</td>\n      <td>96.9129</td>\n      <td>158.159</td>\n      <td>9.26</td>\n      <td>...</td>\n      <td>11.1462</td>\n      <td>60.5549</td>\n      <td>6.94446</td>\n      <td>17.8271</td>\n      <td>29.6736</td>\n      <td>25.474</td>\n      <td>8.59954</td>\n      <td>ffill</td>\n      <td>ffill</td>\n      <td>15.08</td>\n    </tr>\n    <tr>\n      <th>2020-03-11</th>\n      <td>1820.86</td>\n      <td>13.6961</td>\n      <td>111.768</td>\n      <td>45.7</td>\n      <td>315.23</td>\n      <td>203.346</td>\n      <td>116.037</td>\n      <td>90.5764</td>\n      <td>150.041</td>\n      <td>9.2</td>\n      <td>...</td>\n      <td>10.2271</td>\n      <td>59.0388</td>\n      <td>5.85141</td>\n      <td>15.6867</td>\n      <td>26.4511</td>\n      <td>24.5793</td>\n      <td>7.66001</td>\n      <td>ffill</td>\n      <td>ffill</td>\n      <td>14.47</td>\n    </tr>\n    <tr>\n      <th>...</th>\n      <td>...</td>\n      <td>...</td>\n      <td>...</td>\n      <td>...</td>\n      <td>...</td>\n      <td>...</td>\n      <td>...</td>\n      <td>...</td>\n      <td>...</td>\n      <td>...</td>\n      <td>...</td>\n      <td>...</td>\n      <td>...</td>\n      <td>...</td>\n      <td>...</td>\n      <td>...</td>\n      <td>...</td>\n      <td>...</td>\n      <td>...</td>\n      <td>...</td>\n      <td>...</td>\n    </tr>\n    <tr>\n      <th>2021-03-01</th>\n      <td>3146.14</td>\n      <td>27</td>\n      <td>120.74</td>\n      <td>86.39</td>\n      <td>469.57</td>\n      <td>261.19</td>\n      <td>101.29</td>\n      <td>108.916</td>\n      <td>206.22</td>\n      <td>25.99</td>\n      <td>...</td>\n      <td>14.6</td>\n      <td>92.52</td>\n      <td>8.42</td>\n      <td>30.16</td>\n      <td>61.54</td>\n      <td>46.27</td>\n      <td>11.29</td>\n      <td>37.2</td>\n      <td>64.93</td>\n      <td>14.72</td>\n    </tr>\n    <tr>\n      <th>2021-03-02</th>\n      <td>3094.53</td>\n      <td>26.81</td>\n      <td>120.33</td>\n      <td>84.13</td>\n      <td>466.59</td>\n      <td>266</td>\n      <td>101.39</td>\n      <td>109.68</td>\n      <td>206.58</td>\n      <td>27.5</td>\n      <td>...</td>\n      <td>14.5</td>\n      <td>91.73</td>\n      <td>8.45</td>\n      <td>29.72</td>\n      <td>62.73</td>\n      <td>45.78</td>\n      <td>11.43</td>\n      <td>37.14</td>\n      <td>65.41</td>\n      <td>14.29</td>\n    </tr>\n    <tr>\n      <th>2021-03-03</th>\n      <td>3005</td>\n      <td>26.89</td>\n      <td>122.36</td>\n      <td>80.86</td>\n      <td>448.45</td>\n      <td>262.34</td>\n      <td>104.54</td>\n      <td>111.26</td>\n      <td>207.01</td>\n      <td>30.83</td>\n      <td>...</td>\n      <td>14.56</td>\n      <td>89.49</td>\n      <td>8.68</td>\n      <td>28.88</td>\n      <td>62.25</td>\n      <td>45.34</td>\n      <td>11.47</td>\n      <td>37.12</td>\n      <td>67</td>\n      <td>13.88</td>\n    </tr>\n    <tr>\n      <th>2021-03-04</th>\n      <td>2977.57</td>\n      <td>25.88</td>\n      <td>120.11</td>\n      <td>77.75</td>\n      <td>439.06</td>\n      <td>256.43</td>\n      <td>100.92</td>\n      <td>109.35</td>\n      <td>202.94</td>\n      <td>28.59</td>\n      <td>...</td>\n      <td>14.04</td>\n      <td>89.25</td>\n      <td>8.69</td>\n      <td>28.8</td>\n      <td>61.2</td>\n      <td>43.85</td>\n      <td>11.27</td>\n      <td>35.52</td>\n      <td>63.95</td>\n      <td>13.59</td>\n    </tr>\n    <tr>\n      <th>2021-03-05</th>\n      <td>3000.46</td>\n      <td>25.99</td>\n      <td>122.83</td>\n      <td>78.52</td>\n      <td>440.83</td>\n      <td>263.82</td>\n      <td>102.26</td>\n      <td>111.62</td>\n      <td>206.58</td>\n      <td>28.99</td>\n      <td>...</td>\n      <td>14.4</td>\n      <td>90.81</td>\n      <td>9.26</td>\n      <td>29.86</td>\n      <td>62.91</td>\n      <td>44.84</td>\n      <td>11.61</td>\n      <td>36.94</td>\n      <td>64.87</td>\n      <td>13.91</td>\n    </tr>\n  </tbody>\n</table>\n<p>253 rows × 561 columns</p>\n</div>"
          },
          "metadata": {},
          "execution_count": 5
        }
      ]
    },
    {
      "cell_type": "code",
      "metadata": {
        "id": "Elf37B9tOVEZ",
        "outputId": "3aeed912-c681-4835-eb3e-27bad807135f",
        "colab": {
          "base_uri": "https://localhost:8080/",
          "height": 640
        }
      },
      "source": [
        "returns_df = data_close / data_close.shift(1) - 1\n",
        "returns_df"
      ],
      "execution_count": 6,
      "outputs": [
        {
          "output_type": "execute_result",
          "data": {
            "text/plain": [
              "                AMZN       AES       IBM       AMD      ADBE       APD  \\\n",
              "Date                                                                     \n",
              "2020-03-05       NaN       NaN       NaN       NaN       NaN       NaN   \n",
              "2020-03-06       NaN       NaN       NaN       NaN       NaN       NaN   \n",
              "2020-03-09 -0.052854 -0.133175 -0.077664 -0.109488 -0.091992 -0.106918   \n",
              "2020-03-10  0.050655  0.043210  0.059078  0.048764  0.086955  0.045966   \n",
              "2020-03-11 -0.037509 -0.069034 -0.054500  0.007052 -0.051598 -0.031597   \n",
              "...              ...       ...       ...       ...       ...       ...   \n",
              "2021-03-01  0.017204  0.016566  0.015219  0.022246  0.021537  0.021790   \n",
              "2021-03-02 -0.016404 -0.007037 -0.003396 -0.026160 -0.006346  0.018416   \n",
              "2021-03-03 -0.028932  0.002984  0.016870 -0.038868 -0.038878 -0.013759   \n",
              "2021-03-04 -0.009128 -0.037560 -0.018388 -0.038462 -0.020939 -0.022528   \n",
              "2021-03-05  0.007687  0.004250  0.022646  0.009903  0.004031  0.028819   \n",
              "\n",
              "                 BXP       ALL       HON        AA  ...       HPE      INFO  \\\n",
              "Date                                                ...                       \n",
              "2020-03-05       NaN       NaN       NaN       NaN  ...       NaN       NaN   \n",
              "2020-03-06       NaN       NaN       NaN       NaN  ...       NaN       NaN   \n",
              "2020-03-09 -0.073314 -0.107616 -0.068097 -0.210718  ... -0.070892 -0.124639   \n",
              "2020-03-10  0.060313  0.038176  0.057765  0.065593  ...  0.045372  0.007086   \n",
              "2020-03-11 -0.068934 -0.065384 -0.051333 -0.006480  ... -0.082465 -0.025037   \n",
              "...              ...       ...       ...       ...  ...       ...       ...   \n",
              "2021-03-01  0.021790  0.029268  0.019125  0.058656  ...  0.002747  0.026176   \n",
              "2021-03-02  0.000987  0.007018  0.001746  0.058099  ... -0.006849 -0.008539   \n",
              "2021-03-03  0.031068  0.014406  0.002081  0.121091  ...  0.004138 -0.024420   \n",
              "2021-03-04 -0.034628 -0.017167 -0.019661 -0.072656  ... -0.035714 -0.002682   \n",
              "2021-03-05  0.013278  0.020759  0.017936  0.013991  ...  0.025641  0.017479   \n",
              "\n",
              "                 FTI       JHG       DOW      CTVA      AMCR      CARR  \\\n",
              "Date                                                                     \n",
              "2020-03-05       NaN       NaN       NaN       NaN       NaN       NaN   \n",
              "2020-03-06       NaN       NaN       NaN       NaN       NaN       NaN   \n",
              "2020-03-09 -0.262698 -0.084238 -0.216577 -0.088142 -0.047210       NaN   \n",
              "2020-03-10  0.025834  0.071671  0.028496  0.123104  0.010135       NaN   \n",
              "2020-03-11 -0.157398 -0.120063 -0.108599 -0.035122 -0.109253       NaN   \n",
              "...              ...       ...       ...       ...       ...       ...   \n",
              "2021-03-01  0.024331  0.031817  0.037599  0.024806  0.031993  0.018341   \n",
              "2021-03-02  0.003563 -0.014589  0.019337 -0.010590  0.012400 -0.001613   \n",
              "2021-03-03  0.027219 -0.028264 -0.007652 -0.009611  0.003500 -0.000539   \n",
              "2021-03-04  0.001152 -0.002770 -0.016867 -0.032863 -0.017437 -0.043103   \n",
              "2021-03-05  0.065593  0.036806  0.027941  0.022577  0.030169  0.039977   \n",
              "\n",
              "                OTIS      VTRS  \n",
              "Date                            \n",
              "2020-03-05       NaN       NaN  \n",
              "2020-03-06       NaN       NaN  \n",
              "2020-03-09       NaN -0.066234  \n",
              "2020-03-10       NaN  0.048679  \n",
              "2020-03-11       NaN -0.040451  \n",
              "...              ...       ...  \n",
              "2021-03-01  0.019149 -0.008754  \n",
              "2021-03-02  0.007393 -0.029212  \n",
              "2021-03-03  0.024308 -0.028691  \n",
              "2021-03-04 -0.045522 -0.020893  \n",
              "2021-03-05  0.014386  0.023547  \n",
              "\n",
              "[253 rows x 561 columns]"
            ],
            "text/html": "<div>\n<style scoped>\n    .dataframe tbody tr th:only-of-type {\n        vertical-align: middle;\n    }\n\n    .dataframe tbody tr th {\n        vertical-align: top;\n    }\n\n    .dataframe thead th {\n        text-align: right;\n    }\n</style>\n<table border=\"1\" class=\"dataframe\">\n  <thead>\n    <tr style=\"text-align: right;\">\n      <th></th>\n      <th>AMZN</th>\n      <th>AES</th>\n      <th>IBM</th>\n      <th>AMD</th>\n      <th>ADBE</th>\n      <th>APD</th>\n      <th>BXP</th>\n      <th>ALL</th>\n      <th>HON</th>\n      <th>AA</th>\n      <th>...</th>\n      <th>HPE</th>\n      <th>INFO</th>\n      <th>FTI</th>\n      <th>JHG</th>\n      <th>DOW</th>\n      <th>CTVA</th>\n      <th>AMCR</th>\n      <th>CARR</th>\n      <th>OTIS</th>\n      <th>VTRS</th>\n    </tr>\n    <tr>\n      <th>Date</th>\n      <th></th>\n      <th></th>\n      <th></th>\n      <th></th>\n      <th></th>\n      <th></th>\n      <th></th>\n      <th></th>\n      <th></th>\n      <th></th>\n      <th></th>\n      <th></th>\n      <th></th>\n      <th></th>\n      <th></th>\n      <th></th>\n      <th></th>\n      <th></th>\n      <th></th>\n      <th></th>\n      <th></th>\n    </tr>\n  </thead>\n  <tbody>\n    <tr>\n      <th>2020-03-05</th>\n      <td>NaN</td>\n      <td>NaN</td>\n      <td>NaN</td>\n      <td>NaN</td>\n      <td>NaN</td>\n      <td>NaN</td>\n      <td>NaN</td>\n      <td>NaN</td>\n      <td>NaN</td>\n      <td>NaN</td>\n      <td>...</td>\n      <td>NaN</td>\n      <td>NaN</td>\n      <td>NaN</td>\n      <td>NaN</td>\n      <td>NaN</td>\n      <td>NaN</td>\n      <td>NaN</td>\n      <td>NaN</td>\n      <td>NaN</td>\n      <td>NaN</td>\n    </tr>\n    <tr>\n      <th>2020-03-06</th>\n      <td>NaN</td>\n      <td>NaN</td>\n      <td>NaN</td>\n      <td>NaN</td>\n      <td>NaN</td>\n      <td>NaN</td>\n      <td>NaN</td>\n      <td>NaN</td>\n      <td>NaN</td>\n      <td>NaN</td>\n      <td>...</td>\n      <td>NaN</td>\n      <td>NaN</td>\n      <td>NaN</td>\n      <td>NaN</td>\n      <td>NaN</td>\n      <td>NaN</td>\n      <td>NaN</td>\n      <td>NaN</td>\n      <td>NaN</td>\n      <td>NaN</td>\n    </tr>\n    <tr>\n      <th>2020-03-09</th>\n      <td>-0.052854</td>\n      <td>-0.133175</td>\n      <td>-0.077664</td>\n      <td>-0.109488</td>\n      <td>-0.091992</td>\n      <td>-0.106918</td>\n      <td>-0.073314</td>\n      <td>-0.107616</td>\n      <td>-0.068097</td>\n      <td>-0.210718</td>\n      <td>...</td>\n      <td>-0.070892</td>\n      <td>-0.124639</td>\n      <td>-0.262698</td>\n      <td>-0.084238</td>\n      <td>-0.216577</td>\n      <td>-0.088142</td>\n      <td>-0.047210</td>\n      <td>NaN</td>\n      <td>NaN</td>\n      <td>-0.066234</td>\n    </tr>\n    <tr>\n      <th>2020-03-10</th>\n      <td>0.050655</td>\n      <td>0.043210</td>\n      <td>0.059078</td>\n      <td>0.048764</td>\n      <td>0.086955</td>\n      <td>0.045966</td>\n      <td>0.060313</td>\n      <td>0.038176</td>\n      <td>0.057765</td>\n      <td>0.065593</td>\n      <td>...</td>\n      <td>0.045372</td>\n      <td>0.007086</td>\n      <td>0.025834</td>\n      <td>0.071671</td>\n      <td>0.028496</td>\n      <td>0.123104</td>\n      <td>0.010135</td>\n      <td>NaN</td>\n      <td>NaN</td>\n      <td>0.048679</td>\n    </tr>\n    <tr>\n      <th>2020-03-11</th>\n      <td>-0.037509</td>\n      <td>-0.069034</td>\n      <td>-0.054500</td>\n      <td>0.007052</td>\n      <td>-0.051598</td>\n      <td>-0.031597</td>\n      <td>-0.068934</td>\n      <td>-0.065384</td>\n      <td>-0.051333</td>\n      <td>-0.006480</td>\n      <td>...</td>\n      <td>-0.082465</td>\n      <td>-0.025037</td>\n      <td>-0.157398</td>\n      <td>-0.120063</td>\n      <td>-0.108599</td>\n      <td>-0.035122</td>\n      <td>-0.109253</td>\n      <td>NaN</td>\n      <td>NaN</td>\n      <td>-0.040451</td>\n    </tr>\n    <tr>\n      <th>...</th>\n      <td>...</td>\n      <td>...</td>\n      <td>...</td>\n      <td>...</td>\n      <td>...</td>\n      <td>...</td>\n      <td>...</td>\n      <td>...</td>\n      <td>...</td>\n      <td>...</td>\n      <td>...</td>\n      <td>...</td>\n      <td>...</td>\n      <td>...</td>\n      <td>...</td>\n      <td>...</td>\n      <td>...</td>\n      <td>...</td>\n      <td>...</td>\n      <td>...</td>\n      <td>...</td>\n    </tr>\n    <tr>\n      <th>2021-03-01</th>\n      <td>0.017204</td>\n      <td>0.016566</td>\n      <td>0.015219</td>\n      <td>0.022246</td>\n      <td>0.021537</td>\n      <td>0.021790</td>\n      <td>0.021790</td>\n      <td>0.029268</td>\n      <td>0.019125</td>\n      <td>0.058656</td>\n      <td>...</td>\n      <td>0.002747</td>\n      <td>0.026176</td>\n      <td>0.024331</td>\n      <td>0.031817</td>\n      <td>0.037599</td>\n      <td>0.024806</td>\n      <td>0.031993</td>\n      <td>0.018341</td>\n      <td>0.019149</td>\n      <td>-0.008754</td>\n    </tr>\n    <tr>\n      <th>2021-03-02</th>\n      <td>-0.016404</td>\n      <td>-0.007037</td>\n      <td>-0.003396</td>\n      <td>-0.026160</td>\n      <td>-0.006346</td>\n      <td>0.018416</td>\n      <td>0.000987</td>\n      <td>0.007018</td>\n      <td>0.001746</td>\n      <td>0.058099</td>\n      <td>...</td>\n      <td>-0.006849</td>\n      <td>-0.008539</td>\n      <td>0.003563</td>\n      <td>-0.014589</td>\n      <td>0.019337</td>\n      <td>-0.010590</td>\n      <td>0.012400</td>\n      <td>-0.001613</td>\n      <td>0.007393</td>\n      <td>-0.029212</td>\n    </tr>\n    <tr>\n      <th>2021-03-03</th>\n      <td>-0.028932</td>\n      <td>0.002984</td>\n      <td>0.016870</td>\n      <td>-0.038868</td>\n      <td>-0.038878</td>\n      <td>-0.013759</td>\n      <td>0.031068</td>\n      <td>0.014406</td>\n      <td>0.002081</td>\n      <td>0.121091</td>\n      <td>...</td>\n      <td>0.004138</td>\n      <td>-0.024420</td>\n      <td>0.027219</td>\n      <td>-0.028264</td>\n      <td>-0.007652</td>\n      <td>-0.009611</td>\n      <td>0.003500</td>\n      <td>-0.000539</td>\n      <td>0.024308</td>\n      <td>-0.028691</td>\n    </tr>\n    <tr>\n      <th>2021-03-04</th>\n      <td>-0.009128</td>\n      <td>-0.037560</td>\n      <td>-0.018388</td>\n      <td>-0.038462</td>\n      <td>-0.020939</td>\n      <td>-0.022528</td>\n      <td>-0.034628</td>\n      <td>-0.017167</td>\n      <td>-0.019661</td>\n      <td>-0.072656</td>\n      <td>...</td>\n      <td>-0.035714</td>\n      <td>-0.002682</td>\n      <td>0.001152</td>\n      <td>-0.002770</td>\n      <td>-0.016867</td>\n      <td>-0.032863</td>\n      <td>-0.017437</td>\n      <td>-0.043103</td>\n      <td>-0.045522</td>\n      <td>-0.020893</td>\n    </tr>\n    <tr>\n      <th>2021-03-05</th>\n      <td>0.007687</td>\n      <td>0.004250</td>\n      <td>0.022646</td>\n      <td>0.009903</td>\n      <td>0.004031</td>\n      <td>0.028819</td>\n      <td>0.013278</td>\n      <td>0.020759</td>\n      <td>0.017936</td>\n      <td>0.013991</td>\n      <td>...</td>\n      <td>0.025641</td>\n      <td>0.017479</td>\n      <td>0.065593</td>\n      <td>0.036806</td>\n      <td>0.027941</td>\n      <td>0.022577</td>\n      <td>0.030169</td>\n      <td>0.039977</td>\n      <td>0.014386</td>\n      <td>0.023547</td>\n    </tr>\n  </tbody>\n</table>\n<p>253 rows × 561 columns</p>\n</div>"
          },
          "metadata": {},
          "execution_count": 6
        }
      ]
    },
    {
      "cell_type": "code",
      "metadata": {
        "id": "aPHWgfoIPmir",
        "outputId": "ca4de9c6-c99b-427d-ed13-50df53a209c6",
        "colab": {
          "base_uri": "https://localhost:8080/",
          "height": 609
        }
      },
      "source": [
        "df_marketcap"
      ],
      "execution_count": 7,
      "outputs": [
        {
          "output_type": "execute_result",
          "data": {
            "text/plain": [
              "              200001    200247    200597    200784    200815    201160  \\\n",
              "2002-12-31  0.000000  0.000304  0.021304  0.000290  0.001006  0.001518   \n",
              "2003-01-31  0.000000  0.000304  0.021304  0.000290  0.001006  0.001518   \n",
              "2003-02-28  0.000000  0.000295  0.021539  0.000308  0.001062  0.001440   \n",
              "2003-03-31  0.000000  0.000319  0.021456  0.000344  0.001153  0.001524   \n",
              "2003-04-30  0.000000  0.000485  0.021279  0.000379  0.001184  0.001451   \n",
              "...              ...       ...       ...       ...       ...       ...   \n",
              "2020-08-31  0.055047  0.000000  0.004168  0.004050  0.009417  0.002457   \n",
              "2020-09-30  0.053171  0.000000  0.004298  0.003818  0.009330  0.002610   \n",
              "2020-10-30  0.052775  0.000000  0.004060  0.003609  0.008756  0.002491   \n",
              "2020-11-30  0.049859  0.000000  0.004066  0.004021  0.008484  0.002287   \n",
              "2020-12-31  0.048648  0.000000  0.003928  0.003863  0.008403  0.002115   \n",
              "\n",
              "            201947    201995    202045    BYNF41  ...  BKLKXD    266586  \\\n",
              "2002-12-31     0.0  0.003986  0.003233  0.002689  ...     0.0  0.000809   \n",
              "2003-01-31     0.0  0.003986  0.003233  0.002689  ...     0.0  0.000809   \n",
              "2003-02-28     0.0  0.003635  0.003073  0.002830  ...     0.0  0.000910   \n",
              "2003-03-31     0.0  0.003774  0.002958  0.002651  ...     0.0  0.000943   \n",
              "2003-04-30     0.0  0.003940  0.002994  0.002873  ...     0.0  0.001004   \n",
              "...            ...       ...       ...       ...  ...     ...       ...   \n",
              "2020-08-31     0.0  0.001112  0.004424  0.000000  ...     0.0  0.001130   \n",
              "2020-09-30     0.0  0.001166  0.004582  0.000000  ...     0.0  0.001171   \n",
              "2020-10-30     0.0  0.001132  0.004726  0.000000  ...     0.0  0.001207   \n",
              "2020-11-30     0.0  0.001182  0.005290  0.000000  ...     0.0  0.001114   \n",
              "2020-12-31     0.0  0.001171  0.005227  0.000000  ...     0.0  0.001047   \n",
              "\n",
              "              267051    267150  267268    267445    268090    268151  BLS09M  \\\n",
              "2002-12-31  0.002651  0.000767     0.0  0.001526  0.000927  0.011265     0.0   \n",
              "2003-01-31  0.002651  0.000767     0.0  0.001526  0.000927  0.011265     0.0   \n",
              "2003-02-28  0.002595  0.000778     0.0  0.001612  0.000946  0.010820     0.0   \n",
              "2003-03-31  0.002635  0.000741     0.0  0.001673  0.000948  0.011182     0.0   \n",
              "2003-04-30  0.002541  0.000713     0.0  0.001738  0.000883  0.011085     0.0   \n",
              "...              ...       ...     ...       ...       ...       ...     ...   \n",
              "2020-08-31  0.001369  0.001007     0.0  0.000929  0.000809  0.007399     0.0   \n",
              "2020-09-30  0.001382  0.001032     0.0  0.001014  0.000830  0.007612     0.0   \n",
              "2020-10-30  0.001587  0.001094     0.0  0.001076  0.000863  0.007535     0.0   \n",
              "2020-11-30  0.001479  0.001270     0.0  0.001103  0.000808  0.007382     0.0   \n",
              "2020-12-31  0.001443  0.001229     0.0  0.001044  0.000759  0.007178     0.0   \n",
              "\n",
              "            BGH1M5  \n",
              "2002-12-31     0.0  \n",
              "2003-01-31     0.0  \n",
              "2003-02-28     0.0  \n",
              "2003-03-31     0.0  \n",
              "2003-04-30     0.0  \n",
              "...            ...  \n",
              "2020-08-31     0.0  \n",
              "2020-09-30     0.0  \n",
              "2020-10-30     0.0  \n",
              "2020-11-30     0.0  \n",
              "2020-12-31     0.0  \n",
              "\n",
              "[217 rows x 255 columns]"
            ],
            "text/html": "<div>\n<style scoped>\n    .dataframe tbody tr th:only-of-type {\n        vertical-align: middle;\n    }\n\n    .dataframe tbody tr th {\n        vertical-align: top;\n    }\n\n    .dataframe thead th {\n        text-align: right;\n    }\n</style>\n<table border=\"1\" class=\"dataframe\">\n  <thead>\n    <tr style=\"text-align: right;\">\n      <th></th>\n      <th>200001</th>\n      <th>200247</th>\n      <th>200597</th>\n      <th>200784</th>\n      <th>200815</th>\n      <th>201160</th>\n      <th>201947</th>\n      <th>201995</th>\n      <th>202045</th>\n      <th>BYNF41</th>\n      <th>...</th>\n      <th>BKLKXD</th>\n      <th>266586</th>\n      <th>267051</th>\n      <th>267150</th>\n      <th>267268</th>\n      <th>267445</th>\n      <th>268090</th>\n      <th>268151</th>\n      <th>BLS09M</th>\n      <th>BGH1M5</th>\n    </tr>\n  </thead>\n  <tbody>\n    <tr>\n      <th>2002-12-31</th>\n      <td>0.000000</td>\n      <td>0.000304</td>\n      <td>0.021304</td>\n      <td>0.000290</td>\n      <td>0.001006</td>\n      <td>0.001518</td>\n      <td>0.0</td>\n      <td>0.003986</td>\n      <td>0.003233</td>\n      <td>0.002689</td>\n      <td>...</td>\n      <td>0.0</td>\n      <td>0.000809</td>\n      <td>0.002651</td>\n      <td>0.000767</td>\n      <td>0.0</td>\n      <td>0.001526</td>\n      <td>0.000927</td>\n      <td>0.011265</td>\n      <td>0.0</td>\n      <td>0.0</td>\n    </tr>\n    <tr>\n      <th>2003-01-31</th>\n      <td>0.000000</td>\n      <td>0.000304</td>\n      <td>0.021304</td>\n      <td>0.000290</td>\n      <td>0.001006</td>\n      <td>0.001518</td>\n      <td>0.0</td>\n      <td>0.003986</td>\n      <td>0.003233</td>\n      <td>0.002689</td>\n      <td>...</td>\n      <td>0.0</td>\n      <td>0.000809</td>\n      <td>0.002651</td>\n      <td>0.000767</td>\n      <td>0.0</td>\n      <td>0.001526</td>\n      <td>0.000927</td>\n      <td>0.011265</td>\n      <td>0.0</td>\n      <td>0.0</td>\n    </tr>\n    <tr>\n      <th>2003-02-28</th>\n      <td>0.000000</td>\n      <td>0.000295</td>\n      <td>0.021539</td>\n      <td>0.000308</td>\n      <td>0.001062</td>\n      <td>0.001440</td>\n      <td>0.0</td>\n      <td>0.003635</td>\n      <td>0.003073</td>\n      <td>0.002830</td>\n      <td>...</td>\n      <td>0.0</td>\n      <td>0.000910</td>\n      <td>0.002595</td>\n      <td>0.000778</td>\n      <td>0.0</td>\n      <td>0.001612</td>\n      <td>0.000946</td>\n      <td>0.010820</td>\n      <td>0.0</td>\n      <td>0.0</td>\n    </tr>\n    <tr>\n      <th>2003-03-31</th>\n      <td>0.000000</td>\n      <td>0.000319</td>\n      <td>0.021456</td>\n      <td>0.000344</td>\n      <td>0.001153</td>\n      <td>0.001524</td>\n      <td>0.0</td>\n      <td>0.003774</td>\n      <td>0.002958</td>\n      <td>0.002651</td>\n      <td>...</td>\n      <td>0.0</td>\n      <td>0.000943</td>\n      <td>0.002635</td>\n      <td>0.000741</td>\n      <td>0.0</td>\n      <td>0.001673</td>\n      <td>0.000948</td>\n      <td>0.011182</td>\n      <td>0.0</td>\n      <td>0.0</td>\n    </tr>\n    <tr>\n      <th>2003-04-30</th>\n      <td>0.000000</td>\n      <td>0.000485</td>\n      <td>0.021279</td>\n      <td>0.000379</td>\n      <td>0.001184</td>\n      <td>0.001451</td>\n      <td>0.0</td>\n      <td>0.003940</td>\n      <td>0.002994</td>\n      <td>0.002873</td>\n      <td>...</td>\n      <td>0.0</td>\n      <td>0.001004</td>\n      <td>0.002541</td>\n      <td>0.000713</td>\n      <td>0.0</td>\n      <td>0.001738</td>\n      <td>0.000883</td>\n      <td>0.011085</td>\n      <td>0.0</td>\n      <td>0.0</td>\n    </tr>\n    <tr>\n      <th>...</th>\n      <td>...</td>\n      <td>...</td>\n      <td>...</td>\n      <td>...</td>\n      <td>...</td>\n      <td>...</td>\n      <td>...</td>\n      <td>...</td>\n      <td>...</td>\n      <td>...</td>\n      <td>...</td>\n      <td>...</td>\n      <td>...</td>\n      <td>...</td>\n      <td>...</td>\n      <td>...</td>\n      <td>...</td>\n      <td>...</td>\n      <td>...</td>\n      <td>...</td>\n      <td>...</td>\n    </tr>\n    <tr>\n      <th>2020-08-31</th>\n      <td>0.055047</td>\n      <td>0.000000</td>\n      <td>0.004168</td>\n      <td>0.004050</td>\n      <td>0.009417</td>\n      <td>0.002457</td>\n      <td>0.0</td>\n      <td>0.001112</td>\n      <td>0.004424</td>\n      <td>0.000000</td>\n      <td>...</td>\n      <td>0.0</td>\n      <td>0.001130</td>\n      <td>0.001369</td>\n      <td>0.001007</td>\n      <td>0.0</td>\n      <td>0.000929</td>\n      <td>0.000809</td>\n      <td>0.007399</td>\n      <td>0.0</td>\n      <td>0.0</td>\n    </tr>\n    <tr>\n      <th>2020-09-30</th>\n      <td>0.053171</td>\n      <td>0.000000</td>\n      <td>0.004298</td>\n      <td>0.003818</td>\n      <td>0.009330</td>\n      <td>0.002610</td>\n      <td>0.0</td>\n      <td>0.001166</td>\n      <td>0.004582</td>\n      <td>0.000000</td>\n      <td>...</td>\n      <td>0.0</td>\n      <td>0.001171</td>\n      <td>0.001382</td>\n      <td>0.001032</td>\n      <td>0.0</td>\n      <td>0.001014</td>\n      <td>0.000830</td>\n      <td>0.007612</td>\n      <td>0.0</td>\n      <td>0.0</td>\n    </tr>\n    <tr>\n      <th>2020-10-30</th>\n      <td>0.052775</td>\n      <td>0.000000</td>\n      <td>0.004060</td>\n      <td>0.003609</td>\n      <td>0.008756</td>\n      <td>0.002491</td>\n      <td>0.0</td>\n      <td>0.001132</td>\n      <td>0.004726</td>\n      <td>0.000000</td>\n      <td>...</td>\n      <td>0.0</td>\n      <td>0.001207</td>\n      <td>0.001587</td>\n      <td>0.001094</td>\n      <td>0.0</td>\n      <td>0.001076</td>\n      <td>0.000863</td>\n      <td>0.007535</td>\n      <td>0.0</td>\n      <td>0.0</td>\n    </tr>\n    <tr>\n      <th>2020-11-30</th>\n      <td>0.049859</td>\n      <td>0.000000</td>\n      <td>0.004066</td>\n      <td>0.004021</td>\n      <td>0.008484</td>\n      <td>0.002287</td>\n      <td>0.0</td>\n      <td>0.001182</td>\n      <td>0.005290</td>\n      <td>0.000000</td>\n      <td>...</td>\n      <td>0.0</td>\n      <td>0.001114</td>\n      <td>0.001479</td>\n      <td>0.001270</td>\n      <td>0.0</td>\n      <td>0.001103</td>\n      <td>0.000808</td>\n      <td>0.007382</td>\n      <td>0.0</td>\n      <td>0.0</td>\n    </tr>\n    <tr>\n      <th>2020-12-31</th>\n      <td>0.048648</td>\n      <td>0.000000</td>\n      <td>0.003928</td>\n      <td>0.003863</td>\n      <td>0.008403</td>\n      <td>0.002115</td>\n      <td>0.0</td>\n      <td>0.001171</td>\n      <td>0.005227</td>\n      <td>0.000000</td>\n      <td>...</td>\n      <td>0.0</td>\n      <td>0.001047</td>\n      <td>0.001443</td>\n      <td>0.001229</td>\n      <td>0.0</td>\n      <td>0.001044</td>\n      <td>0.000759</td>\n      <td>0.007178</td>\n      <td>0.0</td>\n      <td>0.0</td>\n    </tr>\n  </tbody>\n</table>\n<p>217 rows × 255 columns</p>\n</div>"
          },
          "metadata": {},
          "execution_count": 7
        }
      ]
    },
    {
      "cell_type": "code",
      "metadata": {
        "id": "9s8vWJ3JWVm6"
      },
      "source": [
        "df_marketcap.index = pd.to_datetime(df_marketcap.index)"
      ],
      "execution_count": 8,
      "outputs": []
    },
    {
      "cell_type": "code",
      "metadata": {
        "id": "5VDUxiCXWd6G"
      },
      "source": [
        "df_marketcap_month = df_marketcap.resample('1D')"
      ],
      "execution_count": 9,
      "outputs": []
    },
    {
      "cell_type": "code",
      "metadata": {
        "id": "CmvE9XVPXHrA"
      },
      "source": [
        "df_marketcap_month = df_marketcap_month.mean()"
      ],
      "execution_count": 10,
      "outputs": []
    },
    {
      "cell_type": "code",
      "metadata": {
        "id": "_NN1LDC8Y2u-"
      },
      "source": [
        "df_marketcap_month.fillna(method = 'ffill', inplace = True)\n",
        "df_marketcap_month"
      ],
      "execution_count": 11,
      "outputs": [
        {
          "output_type": "execute_result",
          "data": {
            "text/plain": [
              "              200001    200247    200597    200784    200815    201160  \\\n",
              "2002-12-31  0.000000  0.000304  0.021304  0.000290  0.001006  0.001518   \n",
              "2003-01-01  0.000000  0.000304  0.021304  0.000290  0.001006  0.001518   \n",
              "2003-01-02  0.000000  0.000304  0.021304  0.000290  0.001006  0.001518   \n",
              "2003-01-03  0.000000  0.000304  0.021304  0.000290  0.001006  0.001518   \n",
              "2003-01-04  0.000000  0.000304  0.021304  0.000290  0.001006  0.001518   \n",
              "...              ...       ...       ...       ...       ...       ...   \n",
              "2020-12-27  0.049859  0.000000  0.004066  0.004021  0.008484  0.002287   \n",
              "2020-12-28  0.049859  0.000000  0.004066  0.004021  0.008484  0.002287   \n",
              "2020-12-29  0.049859  0.000000  0.004066  0.004021  0.008484  0.002287   \n",
              "2020-12-30  0.049859  0.000000  0.004066  0.004021  0.008484  0.002287   \n",
              "2020-12-31  0.048648  0.000000  0.003928  0.003863  0.008403  0.002115   \n",
              "\n",
              "            201947    201995    202045    BYNF41  ...  BKLKXD    266586  \\\n",
              "2002-12-31     0.0  0.003986  0.003233  0.002689  ...     0.0  0.000809   \n",
              "2003-01-01     0.0  0.003986  0.003233  0.002689  ...     0.0  0.000809   \n",
              "2003-01-02     0.0  0.003986  0.003233  0.002689  ...     0.0  0.000809   \n",
              "2003-01-03     0.0  0.003986  0.003233  0.002689  ...     0.0  0.000809   \n",
              "2003-01-04     0.0  0.003986  0.003233  0.002689  ...     0.0  0.000809   \n",
              "...            ...       ...       ...       ...  ...     ...       ...   \n",
              "2020-12-27     0.0  0.001182  0.005290  0.000000  ...     0.0  0.001114   \n",
              "2020-12-28     0.0  0.001182  0.005290  0.000000  ...     0.0  0.001114   \n",
              "2020-12-29     0.0  0.001182  0.005290  0.000000  ...     0.0  0.001114   \n",
              "2020-12-30     0.0  0.001182  0.005290  0.000000  ...     0.0  0.001114   \n",
              "2020-12-31     0.0  0.001171  0.005227  0.000000  ...     0.0  0.001047   \n",
              "\n",
              "              267051    267150  267268    267445    268090    268151  BLS09M  \\\n",
              "2002-12-31  0.002651  0.000767     0.0  0.001526  0.000927  0.011265     0.0   \n",
              "2003-01-01  0.002651  0.000767     0.0  0.001526  0.000927  0.011265     0.0   \n",
              "2003-01-02  0.002651  0.000767     0.0  0.001526  0.000927  0.011265     0.0   \n",
              "2003-01-03  0.002651  0.000767     0.0  0.001526  0.000927  0.011265     0.0   \n",
              "2003-01-04  0.002651  0.000767     0.0  0.001526  0.000927  0.011265     0.0   \n",
              "...              ...       ...     ...       ...       ...       ...     ...   \n",
              "2020-12-27  0.001479  0.001270     0.0  0.001103  0.000808  0.007382     0.0   \n",
              "2020-12-28  0.001479  0.001270     0.0  0.001103  0.000808  0.007382     0.0   \n",
              "2020-12-29  0.001479  0.001270     0.0  0.001103  0.000808  0.007382     0.0   \n",
              "2020-12-30  0.001479  0.001270     0.0  0.001103  0.000808  0.007382     0.0   \n",
              "2020-12-31  0.001443  0.001229     0.0  0.001044  0.000759  0.007178     0.0   \n",
              "\n",
              "            BGH1M5  \n",
              "2002-12-31     0.0  \n",
              "2003-01-01     0.0  \n",
              "2003-01-02     0.0  \n",
              "2003-01-03     0.0  \n",
              "2003-01-04     0.0  \n",
              "...            ...  \n",
              "2020-12-27     0.0  \n",
              "2020-12-28     0.0  \n",
              "2020-12-29     0.0  \n",
              "2020-12-30     0.0  \n",
              "2020-12-31     0.0  \n",
              "\n",
              "[6576 rows x 255 columns]"
            ],
            "text/html": "<div>\n<style scoped>\n    .dataframe tbody tr th:only-of-type {\n        vertical-align: middle;\n    }\n\n    .dataframe tbody tr th {\n        vertical-align: top;\n    }\n\n    .dataframe thead th {\n        text-align: right;\n    }\n</style>\n<table border=\"1\" class=\"dataframe\">\n  <thead>\n    <tr style=\"text-align: right;\">\n      <th></th>\n      <th>200001</th>\n      <th>200247</th>\n      <th>200597</th>\n      <th>200784</th>\n      <th>200815</th>\n      <th>201160</th>\n      <th>201947</th>\n      <th>201995</th>\n      <th>202045</th>\n      <th>BYNF41</th>\n      <th>...</th>\n      <th>BKLKXD</th>\n      <th>266586</th>\n      <th>267051</th>\n      <th>267150</th>\n      <th>267268</th>\n      <th>267445</th>\n      <th>268090</th>\n      <th>268151</th>\n      <th>BLS09M</th>\n      <th>BGH1M5</th>\n    </tr>\n  </thead>\n  <tbody>\n    <tr>\n      <th>2002-12-31</th>\n      <td>0.000000</td>\n      <td>0.000304</td>\n      <td>0.021304</td>\n      <td>0.000290</td>\n      <td>0.001006</td>\n      <td>0.001518</td>\n      <td>0.0</td>\n      <td>0.003986</td>\n      <td>0.003233</td>\n      <td>0.002689</td>\n      <td>...</td>\n      <td>0.0</td>\n      <td>0.000809</td>\n      <td>0.002651</td>\n      <td>0.000767</td>\n      <td>0.0</td>\n      <td>0.001526</td>\n      <td>0.000927</td>\n      <td>0.011265</td>\n      <td>0.0</td>\n      <td>0.0</td>\n    </tr>\n    <tr>\n      <th>2003-01-01</th>\n      <td>0.000000</td>\n      <td>0.000304</td>\n      <td>0.021304</td>\n      <td>0.000290</td>\n      <td>0.001006</td>\n      <td>0.001518</td>\n      <td>0.0</td>\n      <td>0.003986</td>\n      <td>0.003233</td>\n      <td>0.002689</td>\n      <td>...</td>\n      <td>0.0</td>\n      <td>0.000809</td>\n      <td>0.002651</td>\n      <td>0.000767</td>\n      <td>0.0</td>\n      <td>0.001526</td>\n      <td>0.000927</td>\n      <td>0.011265</td>\n      <td>0.0</td>\n      <td>0.0</td>\n    </tr>\n    <tr>\n      <th>2003-01-02</th>\n      <td>0.000000</td>\n      <td>0.000304</td>\n      <td>0.021304</td>\n      <td>0.000290</td>\n      <td>0.001006</td>\n      <td>0.001518</td>\n      <td>0.0</td>\n      <td>0.003986</td>\n      <td>0.003233</td>\n      <td>0.002689</td>\n      <td>...</td>\n      <td>0.0</td>\n      <td>0.000809</td>\n      <td>0.002651</td>\n      <td>0.000767</td>\n      <td>0.0</td>\n      <td>0.001526</td>\n      <td>0.000927</td>\n      <td>0.011265</td>\n      <td>0.0</td>\n      <td>0.0</td>\n    </tr>\n    <tr>\n      <th>2003-01-03</th>\n      <td>0.000000</td>\n      <td>0.000304</td>\n      <td>0.021304</td>\n      <td>0.000290</td>\n      <td>0.001006</td>\n      <td>0.001518</td>\n      <td>0.0</td>\n      <td>0.003986</td>\n      <td>0.003233</td>\n      <td>0.002689</td>\n      <td>...</td>\n      <td>0.0</td>\n      <td>0.000809</td>\n      <td>0.002651</td>\n      <td>0.000767</td>\n      <td>0.0</td>\n      <td>0.001526</td>\n      <td>0.000927</td>\n      <td>0.011265</td>\n      <td>0.0</td>\n      <td>0.0</td>\n    </tr>\n    <tr>\n      <th>2003-01-04</th>\n      <td>0.000000</td>\n      <td>0.000304</td>\n      <td>0.021304</td>\n      <td>0.000290</td>\n      <td>0.001006</td>\n      <td>0.001518</td>\n      <td>0.0</td>\n      <td>0.003986</td>\n      <td>0.003233</td>\n      <td>0.002689</td>\n      <td>...</td>\n      <td>0.0</td>\n      <td>0.000809</td>\n      <td>0.002651</td>\n      <td>0.000767</td>\n      <td>0.0</td>\n      <td>0.001526</td>\n      <td>0.000927</td>\n      <td>0.011265</td>\n      <td>0.0</td>\n      <td>0.0</td>\n    </tr>\n    <tr>\n      <th>...</th>\n      <td>...</td>\n      <td>...</td>\n      <td>...</td>\n      <td>...</td>\n      <td>...</td>\n      <td>...</td>\n      <td>...</td>\n      <td>...</td>\n      <td>...</td>\n      <td>...</td>\n      <td>...</td>\n      <td>...</td>\n      <td>...</td>\n      <td>...</td>\n      <td>...</td>\n      <td>...</td>\n      <td>...</td>\n      <td>...</td>\n      <td>...</td>\n      <td>...</td>\n      <td>...</td>\n    </tr>\n    <tr>\n      <th>2020-12-27</th>\n      <td>0.049859</td>\n      <td>0.000000</td>\n      <td>0.004066</td>\n      <td>0.004021</td>\n      <td>0.008484</td>\n      <td>0.002287</td>\n      <td>0.0</td>\n      <td>0.001182</td>\n      <td>0.005290</td>\n      <td>0.000000</td>\n      <td>...</td>\n      <td>0.0</td>\n      <td>0.001114</td>\n      <td>0.001479</td>\n      <td>0.001270</td>\n      <td>0.0</td>\n      <td>0.001103</td>\n      <td>0.000808</td>\n      <td>0.007382</td>\n      <td>0.0</td>\n      <td>0.0</td>\n    </tr>\n    <tr>\n      <th>2020-12-28</th>\n      <td>0.049859</td>\n      <td>0.000000</td>\n      <td>0.004066</td>\n      <td>0.004021</td>\n      <td>0.008484</td>\n      <td>0.002287</td>\n      <td>0.0</td>\n      <td>0.001182</td>\n      <td>0.005290</td>\n      <td>0.000000</td>\n      <td>...</td>\n      <td>0.0</td>\n      <td>0.001114</td>\n      <td>0.001479</td>\n      <td>0.001270</td>\n      <td>0.0</td>\n      <td>0.001103</td>\n      <td>0.000808</td>\n      <td>0.007382</td>\n      <td>0.0</td>\n      <td>0.0</td>\n    </tr>\n    <tr>\n      <th>2020-12-29</th>\n      <td>0.049859</td>\n      <td>0.000000</td>\n      <td>0.004066</td>\n      <td>0.004021</td>\n      <td>0.008484</td>\n      <td>0.002287</td>\n      <td>0.0</td>\n      <td>0.001182</td>\n      <td>0.005290</td>\n      <td>0.000000</td>\n      <td>...</td>\n      <td>0.0</td>\n      <td>0.001114</td>\n      <td>0.001479</td>\n      <td>0.001270</td>\n      <td>0.0</td>\n      <td>0.001103</td>\n      <td>0.000808</td>\n      <td>0.007382</td>\n      <td>0.0</td>\n      <td>0.0</td>\n    </tr>\n    <tr>\n      <th>2020-12-30</th>\n      <td>0.049859</td>\n      <td>0.000000</td>\n      <td>0.004066</td>\n      <td>0.004021</td>\n      <td>0.008484</td>\n      <td>0.002287</td>\n      <td>0.0</td>\n      <td>0.001182</td>\n      <td>0.005290</td>\n      <td>0.000000</td>\n      <td>...</td>\n      <td>0.0</td>\n      <td>0.001114</td>\n      <td>0.001479</td>\n      <td>0.001270</td>\n      <td>0.0</td>\n      <td>0.001103</td>\n      <td>0.000808</td>\n      <td>0.007382</td>\n      <td>0.0</td>\n      <td>0.0</td>\n    </tr>\n    <tr>\n      <th>2020-12-31</th>\n      <td>0.048648</td>\n      <td>0.000000</td>\n      <td>0.003928</td>\n      <td>0.003863</td>\n      <td>0.008403</td>\n      <td>0.002115</td>\n      <td>0.0</td>\n      <td>0.001171</td>\n      <td>0.005227</td>\n      <td>0.000000</td>\n      <td>...</td>\n      <td>0.0</td>\n      <td>0.001047</td>\n      <td>0.001443</td>\n      <td>0.001229</td>\n      <td>0.0</td>\n      <td>0.001044</td>\n      <td>0.000759</td>\n      <td>0.007178</td>\n      <td>0.0</td>\n      <td>0.0</td>\n    </tr>\n  </tbody>\n</table>\n<p>6576 rows × 255 columns</p>\n</div>"
          },
          "metadata": {},
          "execution_count": 11
        }
      ]
    },
    {
      "cell_type": "code",
      "execution_count": 12,
      "metadata": {},
      "outputs": [
        {
          "output_type": "execute_result",
          "data": {
            "text/plain": [
              "                AMZN       AES       IBM       AMD      ADBE       APD  BXP  \\\n",
              "2002-12-31  0.000000  0.000304  0.021304  0.000290  0.001006  0.001518  0.0   \n",
              "2003-01-01  0.000000  0.000304  0.021304  0.000290  0.001006  0.001518  0.0   \n",
              "2003-01-02  0.000000  0.000304  0.021304  0.000290  0.001006  0.001518  0.0   \n",
              "2003-01-03  0.000000  0.000304  0.021304  0.000290  0.001006  0.001518  0.0   \n",
              "2003-01-04  0.000000  0.000304  0.021304  0.000290  0.001006  0.001518  0.0   \n",
              "...              ...       ...       ...       ...       ...       ...  ...   \n",
              "2020-12-27  0.049859  0.000000  0.004066  0.004021  0.008484  0.002287  0.0   \n",
              "2020-12-28  0.049859  0.000000  0.004066  0.004021  0.008484  0.002287  0.0   \n",
              "2020-12-29  0.049859  0.000000  0.004066  0.004021  0.008484  0.002287  0.0   \n",
              "2020-12-30  0.049859  0.000000  0.004066  0.004021  0.008484  0.002287  0.0   \n",
              "2020-12-31  0.048648  0.000000  0.003928  0.003863  0.008403  0.002115  0.0   \n",
              "\n",
              "                 ALL       HON        AA  ...   OI      PCAR       EXC  \\\n",
              "2002-12-31  0.003986  0.003233  0.002689  ...  0.0  0.000809  0.002651   \n",
              "2003-01-01  0.003986  0.003233  0.002689  ...  0.0  0.000809  0.002651   \n",
              "2003-01-02  0.003986  0.003233  0.002689  ...  0.0  0.000809  0.002651   \n",
              "2003-01-03  0.003986  0.003233  0.002689  ...  0.0  0.000809  0.002651   \n",
              "2003-01-04  0.003986  0.003233  0.002689  ...  0.0  0.000809  0.002651   \n",
              "...              ...       ...       ...  ...  ...       ...       ...   \n",
              "2020-12-27  0.001182  0.005290  0.000000  ...  0.0  0.001114  0.001479   \n",
              "2020-12-28  0.001182  0.005290  0.000000  ...  0.0  0.001114  0.001479   \n",
              "2020-12-29  0.001182  0.005290  0.000000  ...  0.0  0.001114  0.001479   \n",
              "2020-12-30  0.001182  0.005290  0.000000  ...  0.0  0.001114  0.001479   \n",
              "2020-12-31  0.001171  0.005227  0.000000  ...  0.0  0.001047  0.001443   \n",
              "\n",
              "                  PH  PDCO      PAYX       PPL       PEP  PNR  PRGO  \n",
              "2002-12-31  0.000767   0.0  0.001526  0.000927  0.011265  0.0   0.0  \n",
              "2003-01-01  0.000767   0.0  0.001526  0.000927  0.011265  0.0   0.0  \n",
              "2003-01-02  0.000767   0.0  0.001526  0.000927  0.011265  0.0   0.0  \n",
              "2003-01-03  0.000767   0.0  0.001526  0.000927  0.011265  0.0   0.0  \n",
              "2003-01-04  0.000767   0.0  0.001526  0.000927  0.011265  0.0   0.0  \n",
              "...              ...   ...       ...       ...       ...  ...   ...  \n",
              "2020-12-27  0.001270   0.0  0.001103  0.000808  0.007382  0.0   0.0  \n",
              "2020-12-28  0.001270   0.0  0.001103  0.000808  0.007382  0.0   0.0  \n",
              "2020-12-29  0.001270   0.0  0.001103  0.000808  0.007382  0.0   0.0  \n",
              "2020-12-30  0.001270   0.0  0.001103  0.000808  0.007382  0.0   0.0  \n",
              "2020-12-31  0.001229   0.0  0.001044  0.000759  0.007178  0.0   0.0  \n",
              "\n",
              "[6576 rows x 255 columns]"
            ],
            "text/html": "<div>\n<style scoped>\n    .dataframe tbody tr th:only-of-type {\n        vertical-align: middle;\n    }\n\n    .dataframe tbody tr th {\n        vertical-align: top;\n    }\n\n    .dataframe thead th {\n        text-align: right;\n    }\n</style>\n<table border=\"1\" class=\"dataframe\">\n  <thead>\n    <tr style=\"text-align: right;\">\n      <th></th>\n      <th>AMZN</th>\n      <th>AES</th>\n      <th>IBM</th>\n      <th>AMD</th>\n      <th>ADBE</th>\n      <th>APD</th>\n      <th>BXP</th>\n      <th>ALL</th>\n      <th>HON</th>\n      <th>AA</th>\n      <th>...</th>\n      <th>OI</th>\n      <th>PCAR</th>\n      <th>EXC</th>\n      <th>PH</th>\n      <th>PDCO</th>\n      <th>PAYX</th>\n      <th>PPL</th>\n      <th>PEP</th>\n      <th>PNR</th>\n      <th>PRGO</th>\n    </tr>\n  </thead>\n  <tbody>\n    <tr>\n      <th>2002-12-31</th>\n      <td>0.000000</td>\n      <td>0.000304</td>\n      <td>0.021304</td>\n      <td>0.000290</td>\n      <td>0.001006</td>\n      <td>0.001518</td>\n      <td>0.0</td>\n      <td>0.003986</td>\n      <td>0.003233</td>\n      <td>0.002689</td>\n      <td>...</td>\n      <td>0.0</td>\n      <td>0.000809</td>\n      <td>0.002651</td>\n      <td>0.000767</td>\n      <td>0.0</td>\n      <td>0.001526</td>\n      <td>0.000927</td>\n      <td>0.011265</td>\n      <td>0.0</td>\n      <td>0.0</td>\n    </tr>\n    <tr>\n      <th>2003-01-01</th>\n      <td>0.000000</td>\n      <td>0.000304</td>\n      <td>0.021304</td>\n      <td>0.000290</td>\n      <td>0.001006</td>\n      <td>0.001518</td>\n      <td>0.0</td>\n      <td>0.003986</td>\n      <td>0.003233</td>\n      <td>0.002689</td>\n      <td>...</td>\n      <td>0.0</td>\n      <td>0.000809</td>\n      <td>0.002651</td>\n      <td>0.000767</td>\n      <td>0.0</td>\n      <td>0.001526</td>\n      <td>0.000927</td>\n      <td>0.011265</td>\n      <td>0.0</td>\n      <td>0.0</td>\n    </tr>\n    <tr>\n      <th>2003-01-02</th>\n      <td>0.000000</td>\n      <td>0.000304</td>\n      <td>0.021304</td>\n      <td>0.000290</td>\n      <td>0.001006</td>\n      <td>0.001518</td>\n      <td>0.0</td>\n      <td>0.003986</td>\n      <td>0.003233</td>\n      <td>0.002689</td>\n      <td>...</td>\n      <td>0.0</td>\n      <td>0.000809</td>\n      <td>0.002651</td>\n      <td>0.000767</td>\n      <td>0.0</td>\n      <td>0.001526</td>\n      <td>0.000927</td>\n      <td>0.011265</td>\n      <td>0.0</td>\n      <td>0.0</td>\n    </tr>\n    <tr>\n      <th>2003-01-03</th>\n      <td>0.000000</td>\n      <td>0.000304</td>\n      <td>0.021304</td>\n      <td>0.000290</td>\n      <td>0.001006</td>\n      <td>0.001518</td>\n      <td>0.0</td>\n      <td>0.003986</td>\n      <td>0.003233</td>\n      <td>0.002689</td>\n      <td>...</td>\n      <td>0.0</td>\n      <td>0.000809</td>\n      <td>0.002651</td>\n      <td>0.000767</td>\n      <td>0.0</td>\n      <td>0.001526</td>\n      <td>0.000927</td>\n      <td>0.011265</td>\n      <td>0.0</td>\n      <td>0.0</td>\n    </tr>\n    <tr>\n      <th>2003-01-04</th>\n      <td>0.000000</td>\n      <td>0.000304</td>\n      <td>0.021304</td>\n      <td>0.000290</td>\n      <td>0.001006</td>\n      <td>0.001518</td>\n      <td>0.0</td>\n      <td>0.003986</td>\n      <td>0.003233</td>\n      <td>0.002689</td>\n      <td>...</td>\n      <td>0.0</td>\n      <td>0.000809</td>\n      <td>0.002651</td>\n      <td>0.000767</td>\n      <td>0.0</td>\n      <td>0.001526</td>\n      <td>0.000927</td>\n      <td>0.011265</td>\n      <td>0.0</td>\n      <td>0.0</td>\n    </tr>\n    <tr>\n      <th>...</th>\n      <td>...</td>\n      <td>...</td>\n      <td>...</td>\n      <td>...</td>\n      <td>...</td>\n      <td>...</td>\n      <td>...</td>\n      <td>...</td>\n      <td>...</td>\n      <td>...</td>\n      <td>...</td>\n      <td>...</td>\n      <td>...</td>\n      <td>...</td>\n      <td>...</td>\n      <td>...</td>\n      <td>...</td>\n      <td>...</td>\n      <td>...</td>\n      <td>...</td>\n      <td>...</td>\n    </tr>\n    <tr>\n      <th>2020-12-27</th>\n      <td>0.049859</td>\n      <td>0.000000</td>\n      <td>0.004066</td>\n      <td>0.004021</td>\n      <td>0.008484</td>\n      <td>0.002287</td>\n      <td>0.0</td>\n      <td>0.001182</td>\n      <td>0.005290</td>\n      <td>0.000000</td>\n      <td>...</td>\n      <td>0.0</td>\n      <td>0.001114</td>\n      <td>0.001479</td>\n      <td>0.001270</td>\n      <td>0.0</td>\n      <td>0.001103</td>\n      <td>0.000808</td>\n      <td>0.007382</td>\n      <td>0.0</td>\n      <td>0.0</td>\n    </tr>\n    <tr>\n      <th>2020-12-28</th>\n      <td>0.049859</td>\n      <td>0.000000</td>\n      <td>0.004066</td>\n      <td>0.004021</td>\n      <td>0.008484</td>\n      <td>0.002287</td>\n      <td>0.0</td>\n      <td>0.001182</td>\n      <td>0.005290</td>\n      <td>0.000000</td>\n      <td>...</td>\n      <td>0.0</td>\n      <td>0.001114</td>\n      <td>0.001479</td>\n      <td>0.001270</td>\n      <td>0.0</td>\n      <td>0.001103</td>\n      <td>0.000808</td>\n      <td>0.007382</td>\n      <td>0.0</td>\n      <td>0.0</td>\n    </tr>\n    <tr>\n      <th>2020-12-29</th>\n      <td>0.049859</td>\n      <td>0.000000</td>\n      <td>0.004066</td>\n      <td>0.004021</td>\n      <td>0.008484</td>\n      <td>0.002287</td>\n      <td>0.0</td>\n      <td>0.001182</td>\n      <td>0.005290</td>\n      <td>0.000000</td>\n      <td>...</td>\n      <td>0.0</td>\n      <td>0.001114</td>\n      <td>0.001479</td>\n      <td>0.001270</td>\n      <td>0.0</td>\n      <td>0.001103</td>\n      <td>0.000808</td>\n      <td>0.007382</td>\n      <td>0.0</td>\n      <td>0.0</td>\n    </tr>\n    <tr>\n      <th>2020-12-30</th>\n      <td>0.049859</td>\n      <td>0.000000</td>\n      <td>0.004066</td>\n      <td>0.004021</td>\n      <td>0.008484</td>\n      <td>0.002287</td>\n      <td>0.0</td>\n      <td>0.001182</td>\n      <td>0.005290</td>\n      <td>0.000000</td>\n      <td>...</td>\n      <td>0.0</td>\n      <td>0.001114</td>\n      <td>0.001479</td>\n      <td>0.001270</td>\n      <td>0.0</td>\n      <td>0.001103</td>\n      <td>0.000808</td>\n      <td>0.007382</td>\n      <td>0.0</td>\n      <td>0.0</td>\n    </tr>\n    <tr>\n      <th>2020-12-31</th>\n      <td>0.048648</td>\n      <td>0.000000</td>\n      <td>0.003928</td>\n      <td>0.003863</td>\n      <td>0.008403</td>\n      <td>0.002115</td>\n      <td>0.0</td>\n      <td>0.001171</td>\n      <td>0.005227</td>\n      <td>0.000000</td>\n      <td>...</td>\n      <td>0.0</td>\n      <td>0.001047</td>\n      <td>0.001443</td>\n      <td>0.001229</td>\n      <td>0.0</td>\n      <td>0.001044</td>\n      <td>0.000759</td>\n      <td>0.007178</td>\n      <td>0.0</td>\n      <td>0.0</td>\n    </tr>\n  </tbody>\n</table>\n<p>6576 rows × 255 columns</p>\n</div>"
          },
          "metadata": {},
          "execution_count": 12
        }
      ],
      "source": [
        "correspondences = df_dataprojets[['Sedol', 'Tickers']]\n",
        "correspondences.set_index('Sedol', drop = True, inplace = True)\n",
        "correspondences_dict = correspondences.to_dict()['Tickers']\n",
        "df_marketcap_month.rename(columns = correspondences_dict, inplace = True)\n",
        "df_marketcap_month"
      ]
    },
    {
      "cell_type": "code",
      "execution_count": 13,
      "metadata": {},
      "outputs": [
        {
          "output_type": "execute_result",
          "data": {
            "text/plain": [
              "False"
            ]
          },
          "metadata": {},
          "execution_count": 13
        }
      ],
      "source": [
        "list(df_marketcap_month.columns) == list(returns_df.columns)"
      ]
    },
    {
      "cell_type": "code",
      "execution_count": 14,
      "metadata": {},
      "outputs": [
        {
          "output_type": "execute_result",
          "data": {
            "text/plain": [
              "                AMZN       AES       IBM       AMD      ADBE       APD  \\\n",
              "Date                                                                     \n",
              "2021-03-03 -0.028932  0.002984  0.016870 -0.038868 -0.038878 -0.013759   \n",
              "2021-03-04 -0.009128 -0.037560 -0.018388 -0.038462 -0.020939 -0.022528   \n",
              "2021-03-05  0.007687  0.004250  0.022646  0.009903  0.004031  0.028819   \n",
              "\n",
              "                 BXP       ALL       HON        AA  ...        OI      PCAR  \\\n",
              "Date                                                ...                       \n",
              "2021-03-03  0.031068  0.014406  0.002081  0.121091  ...  0.022920  0.011255   \n",
              "2021-03-04 -0.034628 -0.017167 -0.019661 -0.072656  ... -0.019087 -0.029819   \n",
              "2021-03-05  0.013278  0.020759  0.017936  0.013991  ...  0.069374  0.018939   \n",
              "\n",
              "                 EXC        PH      PDCO      PAYX       PPL       PEP  \\\n",
              "Date                                                                     \n",
              "2021-03-03  0.005597  0.001926 -0.067058 -0.018016  0.012528 -0.014725   \n",
              "2021-03-04  0.006071 -0.011466 -0.026168 -0.012931  0.015648  0.005565   \n",
              "2021-03-05  0.006423  0.023368  0.043197  0.031464  0.012182  0.032601   \n",
              "\n",
              "                 PNR      PRGO  \n",
              "Date                            \n",
              "2021-03-03  0.000693 -0.019245  \n",
              "2021-03-04 -0.025632 -0.017200  \n",
              "2021-03-05  0.025240  0.011585  \n",
              "\n",
              "[3 rows x 255 columns]"
            ],
            "text/html": "<div>\n<style scoped>\n    .dataframe tbody tr th:only-of-type {\n        vertical-align: middle;\n    }\n\n    .dataframe tbody tr th {\n        vertical-align: top;\n    }\n\n    .dataframe thead th {\n        text-align: right;\n    }\n</style>\n<table border=\"1\" class=\"dataframe\">\n  <thead>\n    <tr style=\"text-align: right;\">\n      <th></th>\n      <th>AMZN</th>\n      <th>AES</th>\n      <th>IBM</th>\n      <th>AMD</th>\n      <th>ADBE</th>\n      <th>APD</th>\n      <th>BXP</th>\n      <th>ALL</th>\n      <th>HON</th>\n      <th>AA</th>\n      <th>...</th>\n      <th>OI</th>\n      <th>PCAR</th>\n      <th>EXC</th>\n      <th>PH</th>\n      <th>PDCO</th>\n      <th>PAYX</th>\n      <th>PPL</th>\n      <th>PEP</th>\n      <th>PNR</th>\n      <th>PRGO</th>\n    </tr>\n    <tr>\n      <th>Date</th>\n      <th></th>\n      <th></th>\n      <th></th>\n      <th></th>\n      <th></th>\n      <th></th>\n      <th></th>\n      <th></th>\n      <th></th>\n      <th></th>\n      <th></th>\n      <th></th>\n      <th></th>\n      <th></th>\n      <th></th>\n      <th></th>\n      <th></th>\n      <th></th>\n      <th></th>\n      <th></th>\n      <th></th>\n    </tr>\n  </thead>\n  <tbody>\n    <tr>\n      <th>2021-03-03</th>\n      <td>-0.028932</td>\n      <td>0.002984</td>\n      <td>0.016870</td>\n      <td>-0.038868</td>\n      <td>-0.038878</td>\n      <td>-0.013759</td>\n      <td>0.031068</td>\n      <td>0.014406</td>\n      <td>0.002081</td>\n      <td>0.121091</td>\n      <td>...</td>\n      <td>0.022920</td>\n      <td>0.011255</td>\n      <td>0.005597</td>\n      <td>0.001926</td>\n      <td>-0.067058</td>\n      <td>-0.018016</td>\n      <td>0.012528</td>\n      <td>-0.014725</td>\n      <td>0.000693</td>\n      <td>-0.019245</td>\n    </tr>\n    <tr>\n      <th>2021-03-04</th>\n      <td>-0.009128</td>\n      <td>-0.037560</td>\n      <td>-0.018388</td>\n      <td>-0.038462</td>\n      <td>-0.020939</td>\n      <td>-0.022528</td>\n      <td>-0.034628</td>\n      <td>-0.017167</td>\n      <td>-0.019661</td>\n      <td>-0.072656</td>\n      <td>...</td>\n      <td>-0.019087</td>\n      <td>-0.029819</td>\n      <td>0.006071</td>\n      <td>-0.011466</td>\n      <td>-0.026168</td>\n      <td>-0.012931</td>\n      <td>0.015648</td>\n      <td>0.005565</td>\n      <td>-0.025632</td>\n      <td>-0.017200</td>\n    </tr>\n    <tr>\n      <th>2021-03-05</th>\n      <td>0.007687</td>\n      <td>0.004250</td>\n      <td>0.022646</td>\n      <td>0.009903</td>\n      <td>0.004031</td>\n      <td>0.028819</td>\n      <td>0.013278</td>\n      <td>0.020759</td>\n      <td>0.017936</td>\n      <td>0.013991</td>\n      <td>...</td>\n      <td>0.069374</td>\n      <td>0.018939</td>\n      <td>0.006423</td>\n      <td>0.023368</td>\n      <td>0.043197</td>\n      <td>0.031464</td>\n      <td>0.012182</td>\n      <td>0.032601</td>\n      <td>0.025240</td>\n      <td>0.011585</td>\n    </tr>\n  </tbody>\n</table>\n<p>3 rows × 255 columns</p>\n</div>"
          },
          "metadata": {},
          "execution_count": 14
        }
      ],
      "source": [
        "returns_df_filtered = returns_df[list(df_marketcap_month.columns)]\n",
        "returns_df_filtered = returns_df_filtered.dropna(axis = 'index', how = 'all')\n",
        "returns_df_filtered.head(3)\n",
        "returns_df_filtered.tail(3)"
      ]
    },
    {
      "cell_type": "code",
      "execution_count": 15,
      "metadata": {},
      "outputs": [
        {
          "output_type": "execute_result",
          "data": {
            "text/plain": [
              "                AMZN  AES       IBM       AMD      ADBE       APD  BXP  \\\n",
              "2020-12-29  0.049859  0.0  0.004066  0.004021  0.008484  0.002287  0.0   \n",
              "2020-12-30  0.049859  0.0  0.004066  0.004021  0.008484  0.002287  0.0   \n",
              "2020-12-31  0.048648  0.0  0.003928  0.003863  0.008403  0.002115  0.0   \n",
              "\n",
              "                 ALL       HON   AA  ...   OI      PCAR       EXC        PH  \\\n",
              "2020-12-29  0.001182  0.005290  0.0  ...  0.0  0.001114  0.001479  0.001270   \n",
              "2020-12-30  0.001182  0.005290  0.0  ...  0.0  0.001114  0.001479  0.001270   \n",
              "2020-12-31  0.001171  0.005227  0.0  ...  0.0  0.001047  0.001443  0.001229   \n",
              "\n",
              "            PDCO      PAYX       PPL       PEP  PNR  PRGO  \n",
              "2020-12-29   0.0  0.001103  0.000808  0.007382  0.0   0.0  \n",
              "2020-12-30   0.0  0.001103  0.000808  0.007382  0.0   0.0  \n",
              "2020-12-31   0.0  0.001044  0.000759  0.007178  0.0   0.0  \n",
              "\n",
              "[3 rows x 255 columns]"
            ],
            "text/html": "<div>\n<style scoped>\n    .dataframe tbody tr th:only-of-type {\n        vertical-align: middle;\n    }\n\n    .dataframe tbody tr th {\n        vertical-align: top;\n    }\n\n    .dataframe thead th {\n        text-align: right;\n    }\n</style>\n<table border=\"1\" class=\"dataframe\">\n  <thead>\n    <tr style=\"text-align: right;\">\n      <th></th>\n      <th>AMZN</th>\n      <th>AES</th>\n      <th>IBM</th>\n      <th>AMD</th>\n      <th>ADBE</th>\n      <th>APD</th>\n      <th>BXP</th>\n      <th>ALL</th>\n      <th>HON</th>\n      <th>AA</th>\n      <th>...</th>\n      <th>OI</th>\n      <th>PCAR</th>\n      <th>EXC</th>\n      <th>PH</th>\n      <th>PDCO</th>\n      <th>PAYX</th>\n      <th>PPL</th>\n      <th>PEP</th>\n      <th>PNR</th>\n      <th>PRGO</th>\n    </tr>\n  </thead>\n  <tbody>\n    <tr>\n      <th>2020-12-29</th>\n      <td>0.049859</td>\n      <td>0.0</td>\n      <td>0.004066</td>\n      <td>0.004021</td>\n      <td>0.008484</td>\n      <td>0.002287</td>\n      <td>0.0</td>\n      <td>0.001182</td>\n      <td>0.005290</td>\n      <td>0.0</td>\n      <td>...</td>\n      <td>0.0</td>\n      <td>0.001114</td>\n      <td>0.001479</td>\n      <td>0.001270</td>\n      <td>0.0</td>\n      <td>0.001103</td>\n      <td>0.000808</td>\n      <td>0.007382</td>\n      <td>0.0</td>\n      <td>0.0</td>\n    </tr>\n    <tr>\n      <th>2020-12-30</th>\n      <td>0.049859</td>\n      <td>0.0</td>\n      <td>0.004066</td>\n      <td>0.004021</td>\n      <td>0.008484</td>\n      <td>0.002287</td>\n      <td>0.0</td>\n      <td>0.001182</td>\n      <td>0.005290</td>\n      <td>0.0</td>\n      <td>...</td>\n      <td>0.0</td>\n      <td>0.001114</td>\n      <td>0.001479</td>\n      <td>0.001270</td>\n      <td>0.0</td>\n      <td>0.001103</td>\n      <td>0.000808</td>\n      <td>0.007382</td>\n      <td>0.0</td>\n      <td>0.0</td>\n    </tr>\n    <tr>\n      <th>2020-12-31</th>\n      <td>0.048648</td>\n      <td>0.0</td>\n      <td>0.003928</td>\n      <td>0.003863</td>\n      <td>0.008403</td>\n      <td>0.002115</td>\n      <td>0.0</td>\n      <td>0.001171</td>\n      <td>0.005227</td>\n      <td>0.0</td>\n      <td>...</td>\n      <td>0.0</td>\n      <td>0.001047</td>\n      <td>0.001443</td>\n      <td>0.001229</td>\n      <td>0.0</td>\n      <td>0.001044</td>\n      <td>0.000759</td>\n      <td>0.007178</td>\n      <td>0.0</td>\n      <td>0.0</td>\n    </tr>\n  </tbody>\n</table>\n<p>3 rows × 255 columns</p>\n</div>"
          },
          "metadata": {},
          "execution_count": 15
        }
      ],
      "source": [
        "period = list(returns_df.index)\n",
        "df_marketcap_month_filtered = df_marketcap_month.loc[period[0]:period[-1]]\n",
        "df_marketcap_month_filtered.head(3)\n",
        "df_marketcap_month_filtered.tail(3)"
      ]
    },
    {
      "cell_type": "code",
      "execution_count": 16,
      "metadata": {},
      "outputs": [],
      "source": [
        "index_return = (returns_df_filtered * df_marketcap_month_filtered)\n",
        "index_return = index_return.dropna(axis = 'index', how = 'all')\n",
        "index_return = index_return.sum(axis = 1)"
      ]
    },
    {
      "cell_type": "code",
      "execution_count": 17,
      "metadata": {},
      "outputs": [
        {
          "output_type": "execute_result",
          "data": {
            "text/plain": [
              "2020-03-09   -0.046433\n",
              "2020-03-10    0.031219\n",
              "2020-03-11   -0.028529\n",
              "2020-03-12   -0.058288\n",
              "2020-03-13    0.059340\n",
              "                ...   \n",
              "2020-12-24    0.001818\n",
              "2020-12-28    0.006088\n",
              "2020-12-29   -0.001338\n",
              "2020-12-30   -0.000387\n",
              "2020-12-31    0.002588\n",
              "Length: 208, dtype: float64"
            ]
          },
          "metadata": {},
          "execution_count": 17
        }
      ],
      "source": [
        "index_return"
      ]
    },
    {
      "cell_type": "code",
      "execution_count": 18,
      "metadata": {},
      "outputs": [
        {
          "output_type": "execute_result",
          "data": {
            "text/plain": [
              "                return\n",
              "2020-03-09  100.000000\n",
              "2020-03-10  -67.234886\n",
              "2020-03-11   61.440499\n",
              "2020-03-12  125.530748\n",
              "2020-03-13 -127.796793\n",
              "...                ...\n",
              "2020-12-24   -3.915333\n",
              "2020-12-28  -13.111087\n",
              "2020-12-29    2.881715\n",
              "2020-12-30    0.833029\n",
              "2020-12-31   -5.572806\n",
              "\n",
              "[208 rows x 1 columns]"
            ],
            "text/html": "<div>\n<style scoped>\n    .dataframe tbody tr th:only-of-type {\n        vertical-align: middle;\n    }\n\n    .dataframe tbody tr th {\n        vertical-align: top;\n    }\n\n    .dataframe thead th {\n        text-align: right;\n    }\n</style>\n<table border=\"1\" class=\"dataframe\">\n  <thead>\n    <tr style=\"text-align: right;\">\n      <th></th>\n      <th>return</th>\n    </tr>\n  </thead>\n  <tbody>\n    <tr>\n      <th>2020-03-09</th>\n      <td>100.000000</td>\n    </tr>\n    <tr>\n      <th>2020-03-10</th>\n      <td>-67.234886</td>\n    </tr>\n    <tr>\n      <th>2020-03-11</th>\n      <td>61.440499</td>\n    </tr>\n    <tr>\n      <th>2020-03-12</th>\n      <td>125.530748</td>\n    </tr>\n    <tr>\n      <th>2020-03-13</th>\n      <td>-127.796793</td>\n    </tr>\n    <tr>\n      <th>...</th>\n      <td>...</td>\n    </tr>\n    <tr>\n      <th>2020-12-24</th>\n      <td>-3.915333</td>\n    </tr>\n    <tr>\n      <th>2020-12-28</th>\n      <td>-13.111087</td>\n    </tr>\n    <tr>\n      <th>2020-12-29</th>\n      <td>2.881715</td>\n    </tr>\n    <tr>\n      <th>2020-12-30</th>\n      <td>0.833029</td>\n    </tr>\n    <tr>\n      <th>2020-12-31</th>\n      <td>-5.572806</td>\n    </tr>\n  </tbody>\n</table>\n<p>208 rows × 1 columns</p>\n</div>"
          },
          "metadata": {},
          "execution_count": 18
        }
      ],
      "source": [
        "scaler = 100/(index_return.iloc[0])\n",
        "index_return_scaled = pd.DataFrame(index_return * scaler, columns= ['return'])\n",
        "index_return_scaled"
      ]
    },
    {
      "cell_type": "code",
      "execution_count": 19,
      "metadata": {},
      "outputs": [
        {
          "output_type": "execute_result",
          "data": {
            "text/plain": [
              "            US Equity  cash\n",
              "2002-12-31   1261.176  1.38\n",
              "2003-01-02   1303.173  1.38\n",
              "2003-01-03   1302.546  1.39"
            ],
            "text/html": "<div>\n<style scoped>\n    .dataframe tbody tr th:only-of-type {\n        vertical-align: middle;\n    }\n\n    .dataframe tbody tr th {\n        vertical-align: top;\n    }\n\n    .dataframe thead th {\n        text-align: right;\n    }\n</style>\n<table border=\"1\" class=\"dataframe\">\n  <thead>\n    <tr style=\"text-align: right;\">\n      <th></th>\n      <th>US Equity</th>\n      <th>cash</th>\n    </tr>\n  </thead>\n  <tbody>\n    <tr>\n      <th>2002-12-31</th>\n      <td>1261.176</td>\n      <td>1.38</td>\n    </tr>\n    <tr>\n      <th>2003-01-02</th>\n      <td>1303.173</td>\n      <td>1.38</td>\n    </tr>\n    <tr>\n      <th>2003-01-03</th>\n      <td>1302.546</td>\n      <td>1.39</td>\n    </tr>\n  </tbody>\n</table>\n</div>"
          },
          "metadata": {},
          "execution_count": 19
        }
      ],
      "source": [
        "df_bechmark.head(3)"
      ]
    },
    {
      "cell_type": "code",
      "execution_count": 27,
      "metadata": {},
      "outputs": [],
      "source": [
        "compared_df = index_return_scaled.join(df_bechmark, how = 'inner')\n",
        "scaler = 100/compared_df.iloc[0,1]\n",
        "compared_df['US Equity'] = compared_df['US Equity'] * scaler"
      ]
    },
    {
      "cell_type": "code",
      "execution_count": 28,
      "metadata": {},
      "outputs": [
        {
          "output_type": "execute_result",
          "data": {
            "text/plain": [
              "<matplotlib.legend.Legend at 0x7fccee4e5730>"
            ]
          },
          "metadata": {},
          "execution_count": 28
        },
        {
          "output_type": "display_data",
          "data": {
            "text/plain": "<Figure size 432x288 with 1 Axes>",
            "image/svg+xml": "<?xml version=\"1.0\" encoding=\"utf-8\" standalone=\"no\"?>\n<!DOCTYPE svg PUBLIC \"-//W3C//DTD SVG 1.1//EN\"\n  \"http://www.w3.org/Graphics/SVG/1.1/DTD/svg11.dtd\">\n<!-- Created with matplotlib (https://matplotlib.org/) -->\n<svg height=\"246.512908pt\" version=\"1.1\" viewBox=\"0 0 383.667187 246.512908\" width=\"383.667187pt\" xmlns=\"http://www.w3.org/2000/svg\" xmlns:xlink=\"http://www.w3.org/1999/xlink\">\n <metadata>\n  <rdf:RDF xmlns:cc=\"http://creativecommons.org/ns#\" xmlns:dc=\"http://purl.org/dc/elements/1.1/\" xmlns:rdf=\"http://www.w3.org/1999/02/22-rdf-syntax-ns#\">\n   <cc:Work>\n    <dc:type rdf:resource=\"http://purl.org/dc/dcmitype/StillImage\"/>\n    <dc:date>2021-03-08T08:52:13.675913</dc:date>\n    <dc:format>image/svg+xml</dc:format>\n    <dc:creator>\n     <cc:Agent>\n      <dc:title>Matplotlib v3.3.3, https://matplotlib.org/</dc:title>\n     </cc:Agent>\n    </dc:creator>\n   </cc:Work>\n  </rdf:RDF>\n </metadata>\n <defs>\n  <style type=\"text/css\">*{stroke-linecap:butt;stroke-linejoin:round;}</style>\n </defs>\n <g id=\"figure_1\">\n  <g id=\"patch_1\">\n   <path d=\"M 0 246.512908 \nL 383.667187 246.512908 \nL 383.667187 0 \nL 0 0 \nz\n\" style=\"fill:none;\"/>\n  </g>\n  <g id=\"axes_1\">\n   <g id=\"patch_2\">\n    <path d=\"M 41.667188 203.04 \nL 376.467188 203.04 \nL 376.467188 7.2 \nL 41.667188 7.2 \nz\n\" style=\"fill:#ffffff;\"/>\n   </g>\n   <g id=\"matplotlib.axis_1\">\n    <g id=\"xtick_1\">\n     <g id=\"line2d_1\">\n      <defs>\n       <path d=\"M 0 0 \nL 0 3.5 \n\" id=\"ma6faa51cfe\" style=\"stroke:#000000;stroke-width:0.8;\"/>\n      </defs>\n      <g>\n       <use style=\"stroke:#000000;stroke-width:0.8;\" x=\"48.687022\" xlink:href=\"#ma6faa51cfe\" y=\"203.04\"/>\n      </g>\n     </g>\n     <g id=\"text_1\">\n      <!-- 2020-03 -->\n      <g transform=\"translate(11.462201 237.511846)rotate(-30)scale(0.1 -0.1)\">\n       <defs>\n        <path d=\"M 19.1875 8.296875 \nL 53.609375 8.296875 \nL 53.609375 0 \nL 7.328125 0 \nL 7.328125 8.296875 \nQ 12.9375 14.109375 22.625 23.890625 \nQ 32.328125 33.6875 34.8125 36.53125 \nQ 39.546875 41.84375 41.421875 45.53125 \nQ 43.3125 49.21875 43.3125 52.78125 \nQ 43.3125 58.59375 39.234375 62.25 \nQ 35.15625 65.921875 28.609375 65.921875 \nQ 23.96875 65.921875 18.8125 64.3125 \nQ 13.671875 62.703125 7.8125 59.421875 \nL 7.8125 69.390625 \nQ 13.765625 71.78125 18.9375 73 \nQ 24.125 74.21875 28.421875 74.21875 \nQ 39.75 74.21875 46.484375 68.546875 \nQ 53.21875 62.890625 53.21875 53.421875 \nQ 53.21875 48.921875 51.53125 44.890625 \nQ 49.859375 40.875 45.40625 35.40625 \nQ 44.1875 33.984375 37.640625 27.21875 \nQ 31.109375 20.453125 19.1875 8.296875 \nz\n\" id=\"DejaVuSans-50\"/>\n        <path d=\"M 31.78125 66.40625 \nQ 24.171875 66.40625 20.328125 58.90625 \nQ 16.5 51.421875 16.5 36.375 \nQ 16.5 21.390625 20.328125 13.890625 \nQ 24.171875 6.390625 31.78125 6.390625 \nQ 39.453125 6.390625 43.28125 13.890625 \nQ 47.125 21.390625 47.125 36.375 \nQ 47.125 51.421875 43.28125 58.90625 \nQ 39.453125 66.40625 31.78125 66.40625 \nz\nM 31.78125 74.21875 \nQ 44.046875 74.21875 50.515625 64.515625 \nQ 56.984375 54.828125 56.984375 36.375 \nQ 56.984375 17.96875 50.515625 8.265625 \nQ 44.046875 -1.421875 31.78125 -1.421875 \nQ 19.53125 -1.421875 13.0625 8.265625 \nQ 6.59375 17.96875 6.59375 36.375 \nQ 6.59375 54.828125 13.0625 64.515625 \nQ 19.53125 74.21875 31.78125 74.21875 \nz\n\" id=\"DejaVuSans-48\"/>\n        <path d=\"M 4.890625 31.390625 \nL 31.203125 31.390625 \nL 31.203125 23.390625 \nL 4.890625 23.390625 \nz\n\" id=\"DejaVuSans-45\"/>\n        <path d=\"M 40.578125 39.3125 \nQ 47.65625 37.796875 51.625 33 \nQ 55.609375 28.21875 55.609375 21.1875 \nQ 55.609375 10.40625 48.1875 4.484375 \nQ 40.765625 -1.421875 27.09375 -1.421875 \nQ 22.515625 -1.421875 17.65625 -0.515625 \nQ 12.796875 0.390625 7.625 2.203125 \nL 7.625 11.71875 \nQ 11.71875 9.328125 16.59375 8.109375 \nQ 21.484375 6.890625 26.8125 6.890625 \nQ 36.078125 6.890625 40.9375 10.546875 \nQ 45.796875 14.203125 45.796875 21.1875 \nQ 45.796875 27.640625 41.28125 31.265625 \nQ 36.765625 34.90625 28.71875 34.90625 \nL 20.21875 34.90625 \nL 20.21875 43.015625 \nL 29.109375 43.015625 \nQ 36.375 43.015625 40.234375 45.921875 \nQ 44.09375 48.828125 44.09375 54.296875 \nQ 44.09375 59.90625 40.109375 62.90625 \nQ 36.140625 65.921875 28.71875 65.921875 \nQ 24.65625 65.921875 20.015625 65.03125 \nQ 15.375 64.15625 9.8125 62.3125 \nL 9.8125 71.09375 \nQ 15.4375 72.65625 20.34375 73.4375 \nQ 25.25 74.21875 29.59375 74.21875 \nQ 40.828125 74.21875 47.359375 69.109375 \nQ 53.90625 64.015625 53.90625 55.328125 \nQ 53.90625 49.265625 50.4375 45.09375 \nQ 46.96875 40.921875 40.578125 39.3125 \nz\n\" id=\"DejaVuSans-51\"/>\n       </defs>\n       <use xlink:href=\"#DejaVuSans-50\"/>\n       <use x=\"63.623047\" xlink:href=\"#DejaVuSans-48\"/>\n       <use x=\"127.246094\" xlink:href=\"#DejaVuSans-50\"/>\n       <use x=\"190.869141\" xlink:href=\"#DejaVuSans-48\"/>\n       <use x=\"254.492188\" xlink:href=\"#DejaVuSans-45\"/>\n       <use x=\"290.576172\" xlink:href=\"#DejaVuSans-48\"/>\n       <use x=\"354.199219\" xlink:href=\"#DejaVuSans-51\"/>\n      </g>\n     </g>\n    </g>\n    <g id=\"xtick_2\">\n     <g id=\"line2d_2\">\n      <g>\n       <use style=\"stroke:#000000;stroke-width:0.8;\" x=\"80.455617\" xlink:href=\"#ma6faa51cfe\" y=\"203.04\"/>\n      </g>\n     </g>\n     <g id=\"text_2\">\n      <!-- 2020-04 -->\n      <g transform=\"translate(43.230796 237.511846)rotate(-30)scale(0.1 -0.1)\">\n       <defs>\n        <path d=\"M 37.796875 64.3125 \nL 12.890625 25.390625 \nL 37.796875 25.390625 \nz\nM 35.203125 72.90625 \nL 47.609375 72.90625 \nL 47.609375 25.390625 \nL 58.015625 25.390625 \nL 58.015625 17.1875 \nL 47.609375 17.1875 \nL 47.609375 0 \nL 37.796875 0 \nL 37.796875 17.1875 \nL 4.890625 17.1875 \nL 4.890625 26.703125 \nz\n\" id=\"DejaVuSans-52\"/>\n       </defs>\n       <use xlink:href=\"#DejaVuSans-50\"/>\n       <use x=\"63.623047\" xlink:href=\"#DejaVuSans-48\"/>\n       <use x=\"127.246094\" xlink:href=\"#DejaVuSans-50\"/>\n       <use x=\"190.869141\" xlink:href=\"#DejaVuSans-48\"/>\n       <use x=\"254.492188\" xlink:href=\"#DejaVuSans-45\"/>\n       <use x=\"290.576172\" xlink:href=\"#DejaVuSans-48\"/>\n       <use x=\"354.199219\" xlink:href=\"#DejaVuSans-52\"/>\n      </g>\n     </g>\n    </g>\n    <g id=\"xtick_3\">\n     <g id=\"line2d_3\">\n      <g>\n       <use style=\"stroke:#000000;stroke-width:0.8;\" x=\"111.199419\" xlink:href=\"#ma6faa51cfe\" y=\"203.04\"/>\n      </g>\n     </g>\n     <g id=\"text_3\">\n      <!-- 2020-05 -->\n      <g transform=\"translate(73.974598 237.511846)rotate(-30)scale(0.1 -0.1)\">\n       <defs>\n        <path d=\"M 10.796875 72.90625 \nL 49.515625 72.90625 \nL 49.515625 64.59375 \nL 19.828125 64.59375 \nL 19.828125 46.734375 \nQ 21.96875 47.46875 24.109375 47.828125 \nQ 26.265625 48.1875 28.421875 48.1875 \nQ 40.625 48.1875 47.75 41.5 \nQ 54.890625 34.8125 54.890625 23.390625 \nQ 54.890625 11.625 47.5625 5.09375 \nQ 40.234375 -1.421875 26.90625 -1.421875 \nQ 22.3125 -1.421875 17.546875 -0.640625 \nQ 12.796875 0.140625 7.71875 1.703125 \nL 7.71875 11.625 \nQ 12.109375 9.234375 16.796875 8.0625 \nQ 21.484375 6.890625 26.703125 6.890625 \nQ 35.15625 6.890625 40.078125 11.328125 \nQ 45.015625 15.765625 45.015625 23.390625 \nQ 45.015625 31 40.078125 35.4375 \nQ 35.15625 39.890625 26.703125 39.890625 \nQ 22.75 39.890625 18.8125 39.015625 \nQ 14.890625 38.140625 10.796875 36.28125 \nz\n\" id=\"DejaVuSans-53\"/>\n       </defs>\n       <use xlink:href=\"#DejaVuSans-50\"/>\n       <use x=\"63.623047\" xlink:href=\"#DejaVuSans-48\"/>\n       <use x=\"127.246094\" xlink:href=\"#DejaVuSans-50\"/>\n       <use x=\"190.869141\" xlink:href=\"#DejaVuSans-48\"/>\n       <use x=\"254.492188\" xlink:href=\"#DejaVuSans-45\"/>\n       <use x=\"290.576172\" xlink:href=\"#DejaVuSans-48\"/>\n       <use x=\"354.199219\" xlink:href=\"#DejaVuSans-53\"/>\n      </g>\n     </g>\n    </g>\n    <g id=\"xtick_4\">\n     <g id=\"line2d_4\">\n      <g>\n       <use style=\"stroke:#000000;stroke-width:0.8;\" x=\"142.968014\" xlink:href=\"#ma6faa51cfe\" y=\"203.04\"/>\n      </g>\n     </g>\n     <g id=\"text_4\">\n      <!-- 2020-06 -->\n      <g transform=\"translate(105.743193 237.511846)rotate(-30)scale(0.1 -0.1)\">\n       <defs>\n        <path d=\"M 33.015625 40.375 \nQ 26.375 40.375 22.484375 35.828125 \nQ 18.609375 31.296875 18.609375 23.390625 \nQ 18.609375 15.53125 22.484375 10.953125 \nQ 26.375 6.390625 33.015625 6.390625 \nQ 39.65625 6.390625 43.53125 10.953125 \nQ 47.40625 15.53125 47.40625 23.390625 \nQ 47.40625 31.296875 43.53125 35.828125 \nQ 39.65625 40.375 33.015625 40.375 \nz\nM 52.59375 71.296875 \nL 52.59375 62.3125 \nQ 48.875 64.0625 45.09375 64.984375 \nQ 41.3125 65.921875 37.59375 65.921875 \nQ 27.828125 65.921875 22.671875 59.328125 \nQ 17.53125 52.734375 16.796875 39.40625 \nQ 19.671875 43.65625 24.015625 45.921875 \nQ 28.375 48.1875 33.59375 48.1875 \nQ 44.578125 48.1875 50.953125 41.515625 \nQ 57.328125 34.859375 57.328125 23.390625 \nQ 57.328125 12.15625 50.6875 5.359375 \nQ 44.046875 -1.421875 33.015625 -1.421875 \nQ 20.359375 -1.421875 13.671875 8.265625 \nQ 6.984375 17.96875 6.984375 36.375 \nQ 6.984375 53.65625 15.1875 63.9375 \nQ 23.390625 74.21875 37.203125 74.21875 \nQ 40.921875 74.21875 44.703125 73.484375 \nQ 48.484375 72.75 52.59375 71.296875 \nz\n\" id=\"DejaVuSans-54\"/>\n       </defs>\n       <use xlink:href=\"#DejaVuSans-50\"/>\n       <use x=\"63.623047\" xlink:href=\"#DejaVuSans-48\"/>\n       <use x=\"127.246094\" xlink:href=\"#DejaVuSans-50\"/>\n       <use x=\"190.869141\" xlink:href=\"#DejaVuSans-48\"/>\n       <use x=\"254.492188\" xlink:href=\"#DejaVuSans-45\"/>\n       <use x=\"290.576172\" xlink:href=\"#DejaVuSans-48\"/>\n       <use x=\"354.199219\" xlink:href=\"#DejaVuSans-54\"/>\n      </g>\n     </g>\n    </g>\n    <g id=\"xtick_5\">\n     <g id=\"line2d_5\">\n      <g>\n       <use style=\"stroke:#000000;stroke-width:0.8;\" x=\"173.711816\" xlink:href=\"#ma6faa51cfe\" y=\"203.04\"/>\n      </g>\n     </g>\n     <g id=\"text_5\">\n      <!-- 2020-07 -->\n      <g transform=\"translate(136.486995 237.511846)rotate(-30)scale(0.1 -0.1)\">\n       <defs>\n        <path d=\"M 8.203125 72.90625 \nL 55.078125 72.90625 \nL 55.078125 68.703125 \nL 28.609375 0 \nL 18.3125 0 \nL 43.21875 64.59375 \nL 8.203125 64.59375 \nz\n\" id=\"DejaVuSans-55\"/>\n       </defs>\n       <use xlink:href=\"#DejaVuSans-50\"/>\n       <use x=\"63.623047\" xlink:href=\"#DejaVuSans-48\"/>\n       <use x=\"127.246094\" xlink:href=\"#DejaVuSans-50\"/>\n       <use x=\"190.869141\" xlink:href=\"#DejaVuSans-48\"/>\n       <use x=\"254.492188\" xlink:href=\"#DejaVuSans-45\"/>\n       <use x=\"290.576172\" xlink:href=\"#DejaVuSans-48\"/>\n       <use x=\"354.199219\" xlink:href=\"#DejaVuSans-55\"/>\n      </g>\n     </g>\n    </g>\n    <g id=\"xtick_6\">\n     <g id=\"line2d_6\">\n      <g>\n       <use style=\"stroke:#000000;stroke-width:0.8;\" x=\"205.480411\" xlink:href=\"#ma6faa51cfe\" y=\"203.04\"/>\n      </g>\n     </g>\n     <g id=\"text_6\">\n      <!-- 2020-08 -->\n      <g transform=\"translate(168.25559 237.511846)rotate(-30)scale(0.1 -0.1)\">\n       <defs>\n        <path d=\"M 31.78125 34.625 \nQ 24.75 34.625 20.71875 30.859375 \nQ 16.703125 27.09375 16.703125 20.515625 \nQ 16.703125 13.921875 20.71875 10.15625 \nQ 24.75 6.390625 31.78125 6.390625 \nQ 38.8125 6.390625 42.859375 10.171875 \nQ 46.921875 13.96875 46.921875 20.515625 \nQ 46.921875 27.09375 42.890625 30.859375 \nQ 38.875 34.625 31.78125 34.625 \nz\nM 21.921875 38.8125 \nQ 15.578125 40.375 12.03125 44.71875 \nQ 8.5 49.078125 8.5 55.328125 \nQ 8.5 64.0625 14.71875 69.140625 \nQ 20.953125 74.21875 31.78125 74.21875 \nQ 42.671875 74.21875 48.875 69.140625 \nQ 55.078125 64.0625 55.078125 55.328125 \nQ 55.078125 49.078125 51.53125 44.71875 \nQ 48 40.375 41.703125 38.8125 \nQ 48.828125 37.15625 52.796875 32.3125 \nQ 56.78125 27.484375 56.78125 20.515625 \nQ 56.78125 9.90625 50.3125 4.234375 \nQ 43.84375 -1.421875 31.78125 -1.421875 \nQ 19.734375 -1.421875 13.25 4.234375 \nQ 6.78125 9.90625 6.78125 20.515625 \nQ 6.78125 27.484375 10.78125 32.3125 \nQ 14.796875 37.15625 21.921875 38.8125 \nz\nM 18.3125 54.390625 \nQ 18.3125 48.734375 21.84375 45.5625 \nQ 25.390625 42.390625 31.78125 42.390625 \nQ 38.140625 42.390625 41.71875 45.5625 \nQ 45.3125 48.734375 45.3125 54.390625 \nQ 45.3125 60.0625 41.71875 63.234375 \nQ 38.140625 66.40625 31.78125 66.40625 \nQ 25.390625 66.40625 21.84375 63.234375 \nQ 18.3125 60.0625 18.3125 54.390625 \nz\n\" id=\"DejaVuSans-56\"/>\n       </defs>\n       <use xlink:href=\"#DejaVuSans-50\"/>\n       <use x=\"63.623047\" xlink:href=\"#DejaVuSans-48\"/>\n       <use x=\"127.246094\" xlink:href=\"#DejaVuSans-50\"/>\n       <use x=\"190.869141\" xlink:href=\"#DejaVuSans-48\"/>\n       <use x=\"254.492188\" xlink:href=\"#DejaVuSans-45\"/>\n       <use x=\"290.576172\" xlink:href=\"#DejaVuSans-48\"/>\n       <use x=\"354.199219\" xlink:href=\"#DejaVuSans-56\"/>\n      </g>\n     </g>\n    </g>\n    <g id=\"xtick_7\">\n     <g id=\"line2d_7\">\n      <g>\n       <use style=\"stroke:#000000;stroke-width:0.8;\" x=\"237.249006\" xlink:href=\"#ma6faa51cfe\" y=\"203.04\"/>\n      </g>\n     </g>\n     <g id=\"text_7\">\n      <!-- 2020-09 -->\n      <g transform=\"translate(200.024185 237.511846)rotate(-30)scale(0.1 -0.1)\">\n       <defs>\n        <path d=\"M 10.984375 1.515625 \nL 10.984375 10.5 \nQ 14.703125 8.734375 18.5 7.8125 \nQ 22.3125 6.890625 25.984375 6.890625 \nQ 35.75 6.890625 40.890625 13.453125 \nQ 46.046875 20.015625 46.78125 33.40625 \nQ 43.953125 29.203125 39.59375 26.953125 \nQ 35.25 24.703125 29.984375 24.703125 \nQ 19.046875 24.703125 12.671875 31.3125 \nQ 6.296875 37.9375 6.296875 49.421875 \nQ 6.296875 60.640625 12.9375 67.421875 \nQ 19.578125 74.21875 30.609375 74.21875 \nQ 43.265625 74.21875 49.921875 64.515625 \nQ 56.59375 54.828125 56.59375 36.375 \nQ 56.59375 19.140625 48.40625 8.859375 \nQ 40.234375 -1.421875 26.421875 -1.421875 \nQ 22.703125 -1.421875 18.890625 -0.6875 \nQ 15.09375 0.046875 10.984375 1.515625 \nz\nM 30.609375 32.421875 \nQ 37.25 32.421875 41.125 36.953125 \nQ 45.015625 41.5 45.015625 49.421875 \nQ 45.015625 57.28125 41.125 61.84375 \nQ 37.25 66.40625 30.609375 66.40625 \nQ 23.96875 66.40625 20.09375 61.84375 \nQ 16.21875 57.28125 16.21875 49.421875 \nQ 16.21875 41.5 20.09375 36.953125 \nQ 23.96875 32.421875 30.609375 32.421875 \nz\n\" id=\"DejaVuSans-57\"/>\n       </defs>\n       <use xlink:href=\"#DejaVuSans-50\"/>\n       <use x=\"63.623047\" xlink:href=\"#DejaVuSans-48\"/>\n       <use x=\"127.246094\" xlink:href=\"#DejaVuSans-50\"/>\n       <use x=\"190.869141\" xlink:href=\"#DejaVuSans-48\"/>\n       <use x=\"254.492188\" xlink:href=\"#DejaVuSans-45\"/>\n       <use x=\"290.576172\" xlink:href=\"#DejaVuSans-48\"/>\n       <use x=\"354.199219\" xlink:href=\"#DejaVuSans-57\"/>\n      </g>\n     </g>\n    </g>\n    <g id=\"xtick_8\">\n     <g id=\"line2d_8\">\n      <g>\n       <use style=\"stroke:#000000;stroke-width:0.8;\" x=\"267.992807\" xlink:href=\"#ma6faa51cfe\" y=\"203.04\"/>\n      </g>\n     </g>\n     <g id=\"text_8\">\n      <!-- 2020-10 -->\n      <g transform=\"translate(230.767987 237.511846)rotate(-30)scale(0.1 -0.1)\">\n       <defs>\n        <path d=\"M 12.40625 8.296875 \nL 28.515625 8.296875 \nL 28.515625 63.921875 \nL 10.984375 60.40625 \nL 10.984375 69.390625 \nL 28.421875 72.90625 \nL 38.28125 72.90625 \nL 38.28125 8.296875 \nL 54.390625 8.296875 \nL 54.390625 0 \nL 12.40625 0 \nz\n\" id=\"DejaVuSans-49\"/>\n       </defs>\n       <use xlink:href=\"#DejaVuSans-50\"/>\n       <use x=\"63.623047\" xlink:href=\"#DejaVuSans-48\"/>\n       <use x=\"127.246094\" xlink:href=\"#DejaVuSans-50\"/>\n       <use x=\"190.869141\" xlink:href=\"#DejaVuSans-48\"/>\n       <use x=\"254.492188\" xlink:href=\"#DejaVuSans-45\"/>\n       <use x=\"290.576172\" xlink:href=\"#DejaVuSans-49\"/>\n       <use x=\"354.199219\" xlink:href=\"#DejaVuSans-48\"/>\n      </g>\n     </g>\n    </g>\n    <g id=\"xtick_9\">\n     <g id=\"line2d_9\">\n      <g>\n       <use style=\"stroke:#000000;stroke-width:0.8;\" x=\"299.761402\" xlink:href=\"#ma6faa51cfe\" y=\"203.04\"/>\n      </g>\n     </g>\n     <g id=\"text_9\">\n      <!-- 2020-11 -->\n      <g transform=\"translate(262.536582 237.511846)rotate(-30)scale(0.1 -0.1)\">\n       <use xlink:href=\"#DejaVuSans-50\"/>\n       <use x=\"63.623047\" xlink:href=\"#DejaVuSans-48\"/>\n       <use x=\"127.246094\" xlink:href=\"#DejaVuSans-50\"/>\n       <use x=\"190.869141\" xlink:href=\"#DejaVuSans-48\"/>\n       <use x=\"254.492188\" xlink:href=\"#DejaVuSans-45\"/>\n       <use x=\"290.576172\" xlink:href=\"#DejaVuSans-49\"/>\n       <use x=\"354.199219\" xlink:href=\"#DejaVuSans-49\"/>\n      </g>\n     </g>\n    </g>\n    <g id=\"xtick_10\">\n     <g id=\"line2d_10\">\n      <g>\n       <use style=\"stroke:#000000;stroke-width:0.8;\" x=\"330.505204\" xlink:href=\"#ma6faa51cfe\" y=\"203.04\"/>\n      </g>\n     </g>\n     <g id=\"text_10\">\n      <!-- 2020-12 -->\n      <g transform=\"translate(293.280383 237.511846)rotate(-30)scale(0.1 -0.1)\">\n       <use xlink:href=\"#DejaVuSans-50\"/>\n       <use x=\"63.623047\" xlink:href=\"#DejaVuSans-48\"/>\n       <use x=\"127.246094\" xlink:href=\"#DejaVuSans-50\"/>\n       <use x=\"190.869141\" xlink:href=\"#DejaVuSans-48\"/>\n       <use x=\"254.492188\" xlink:href=\"#DejaVuSans-45\"/>\n       <use x=\"290.576172\" xlink:href=\"#DejaVuSans-49\"/>\n       <use x=\"354.199219\" xlink:href=\"#DejaVuSans-50\"/>\n      </g>\n     </g>\n    </g>\n    <g id=\"xtick_11\">\n     <g id=\"line2d_11\">\n      <g>\n       <use style=\"stroke:#000000;stroke-width:0.8;\" x=\"362.273799\" xlink:href=\"#ma6faa51cfe\" y=\"203.04\"/>\n      </g>\n     </g>\n     <g id=\"text_11\">\n      <!-- 2021-01 -->\n      <g transform=\"translate(325.048978 237.511846)rotate(-30)scale(0.1 -0.1)\">\n       <use xlink:href=\"#DejaVuSans-50\"/>\n       <use x=\"63.623047\" xlink:href=\"#DejaVuSans-48\"/>\n       <use x=\"127.246094\" xlink:href=\"#DejaVuSans-50\"/>\n       <use x=\"190.869141\" xlink:href=\"#DejaVuSans-49\"/>\n       <use x=\"254.492188\" xlink:href=\"#DejaVuSans-45\"/>\n       <use x=\"290.576172\" xlink:href=\"#DejaVuSans-48\"/>\n       <use x=\"354.199219\" xlink:href=\"#DejaVuSans-49\"/>\n      </g>\n     </g>\n    </g>\n   </g>\n   <g id=\"matplotlib.axis_2\">\n    <g id=\"ytick_1\">\n     <g id=\"line2d_12\">\n      <defs>\n       <path d=\"M 0 0 \nL -3.5 0 \n\" id=\"m855d4ddc81\" style=\"stroke:#000000;stroke-width:0.8;\"/>\n      </defs>\n      <g>\n       <use style=\"stroke:#000000;stroke-width:0.8;\" x=\"41.667188\" xlink:href=\"#m855d4ddc81\" y=\"176.544065\"/>\n      </g>\n     </g>\n     <g id=\"text_12\">\n      <!-- −100 -->\n      <g transform=\"translate(7.2 180.343284)scale(0.1 -0.1)\">\n       <defs>\n        <path d=\"M 10.59375 35.5 \nL 73.1875 35.5 \nL 73.1875 27.203125 \nL 10.59375 27.203125 \nz\n\" id=\"DejaVuSans-8722\"/>\n       </defs>\n       <use xlink:href=\"#DejaVuSans-8722\"/>\n       <use x=\"83.789062\" xlink:href=\"#DejaVuSans-49\"/>\n       <use x=\"147.412109\" xlink:href=\"#DejaVuSans-48\"/>\n       <use x=\"211.035156\" xlink:href=\"#DejaVuSans-48\"/>\n      </g>\n     </g>\n    </g>\n    <g id=\"ytick_2\">\n     <g id=\"line2d_13\">\n      <g>\n       <use style=\"stroke:#000000;stroke-width:0.8;\" x=\"41.667188\" xlink:href=\"#m855d4ddc81\" y=\"144.896319\"/>\n      </g>\n     </g>\n     <g id=\"text_13\">\n      <!-- −50 -->\n      <g transform=\"translate(13.5625 148.695538)scale(0.1 -0.1)\">\n       <use xlink:href=\"#DejaVuSans-8722\"/>\n       <use x=\"83.789062\" xlink:href=\"#DejaVuSans-53\"/>\n       <use x=\"147.412109\" xlink:href=\"#DejaVuSans-48\"/>\n      </g>\n     </g>\n    </g>\n    <g id=\"ytick_3\">\n     <g id=\"line2d_14\">\n      <g>\n       <use style=\"stroke:#000000;stroke-width:0.8;\" x=\"41.667188\" xlink:href=\"#m855d4ddc81\" y=\"113.248573\"/>\n      </g>\n     </g>\n     <g id=\"text_14\">\n      <!-- 0 -->\n      <g transform=\"translate(28.304688 117.047791)scale(0.1 -0.1)\">\n       <use xlink:href=\"#DejaVuSans-48\"/>\n      </g>\n     </g>\n    </g>\n    <g id=\"ytick_4\">\n     <g id=\"line2d_15\">\n      <g>\n       <use style=\"stroke:#000000;stroke-width:0.8;\" x=\"41.667188\" xlink:href=\"#m855d4ddc81\" y=\"81.600826\"/>\n      </g>\n     </g>\n     <g id=\"text_15\">\n      <!-- 50 -->\n      <g transform=\"translate(21.942188 85.400045)scale(0.1 -0.1)\">\n       <use xlink:href=\"#DejaVuSans-53\"/>\n       <use x=\"63.623047\" xlink:href=\"#DejaVuSans-48\"/>\n      </g>\n     </g>\n    </g>\n    <g id=\"ytick_5\">\n     <g id=\"line2d_16\">\n      <g>\n       <use style=\"stroke:#000000;stroke-width:0.8;\" x=\"41.667188\" xlink:href=\"#m855d4ddc81\" y=\"49.95308\"/>\n      </g>\n     </g>\n     <g id=\"text_16\">\n      <!-- 100 -->\n      <g transform=\"translate(15.579688 53.752299)scale(0.1 -0.1)\">\n       <use xlink:href=\"#DejaVuSans-49\"/>\n       <use x=\"63.623047\" xlink:href=\"#DejaVuSans-48\"/>\n       <use x=\"127.246094\" xlink:href=\"#DejaVuSans-48\"/>\n      </g>\n     </g>\n    </g>\n    <g id=\"ytick_6\">\n     <g id=\"line2d_17\">\n      <g>\n       <use style=\"stroke:#000000;stroke-width:0.8;\" x=\"41.667188\" xlink:href=\"#m855d4ddc81\" y=\"18.305334\"/>\n      </g>\n     </g>\n     <g id=\"text_17\">\n      <!-- 150 -->\n      <g transform=\"translate(15.579688 22.104553)scale(0.1 -0.1)\">\n       <use xlink:href=\"#DejaVuSans-49\"/>\n       <use x=\"63.623047\" xlink:href=\"#DejaVuSans-53\"/>\n       <use x=\"127.246094\" xlink:href=\"#DejaVuSans-48\"/>\n      </g>\n     </g>\n    </g>\n   </g>\n   <g id=\"line2d_18\">\n    <path clip-path=\"url(#pe290ea0349)\" d=\"M 56.885369 49.95308 \nL 57.910163 155.805225 \nL 58.934956 74.359506 \nL 59.959749 33.793268 \nL 60.984543 194.138182 \nL 64.058923 16.101818 \nL 65.083716 165.453771 \nL 66.10851 72.932691 \nL 67.133303 118.615001 \nL 68.158097 77.74785 \nL 71.232477 94.880124 \nL 72.25727 192.236221 \nL 73.282064 123.171836 \nL 74.306857 165.189559 \nL 75.33165 85.922295 \nL 78.40603 141.056516 \nL 79.430824 98.534473 \nL 80.455617 78.334037 \nL 81.480411 133.289911 \nL 82.505204 101.761663 \nL 85.579584 169.316457 \nL 86.604378 111.005194 \nL 87.629171 138.452356 \nL 88.653964 124.653994 \nL 93.777931 139.818513 \nL 94.802725 96.253036 \nL 95.827518 120.938858 \nL 96.852311 133.784885 \nL 100.951485 87.615586 \nL 101.976278 131.719491 \nL 103.001072 111.002975 \nL 104.025865 125.604734 \nL 107.100245 123.759914 \nL 108.125039 107.914179 \nL 109.149832 131.938761 \nL 110.174626 108.886371 \nL 111.199419 88.892491 \nL 114.273799 118.608473 \nL 115.298592 119.889433 \nL 116.323386 110.08678 \nL 117.348179 121.37724 \nL 121.447353 115.270953 \nL 122.472146 96.702839 \nL 123.49694 99.916416 \nL 124.521733 123.396219 \nL 125.546526 116.214299 \nL 128.620907 137.54377 \nL 129.6457 104.955669 \nL 130.670493 125.531552 \nL 131.695287 105.622596 \nL 132.72008 114.62642 \nL 136.819254 121.505886 \nL 137.844047 125.855514 \nL 138.86884 111.73059 \nL 139.893634 118.143067 \nL 142.968014 115.604471 \nL 143.992807 119.206208 \nL 145.017601 123.774579 \nL 146.042394 111.429763 \nL 147.067187 132.007139 \nL 150.141568 122.316567 \nL 151.166361 111.307717 \nL 152.191154 113.931271 \nL 153.215948 66.98822 \nL 154.240741 122.813661 \nL 157.315121 119.903693 \nL 158.339915 129.604453 \nL 159.364708 110.952795 \nL 160.389502 114.30931 \nL 161.414295 108.875525 \nL 164.488675 119.598269 \nL 165.513468 117.178413 \nL 166.538262 94.886775 \nL 167.563055 122.003295 \nL 168.587849 95.916464 \nL 171.662229 124.263834 \nL 172.687022 126.277971 \nL 173.711816 116.968824 \nL 174.736609 116.757857 \nL 178.835783 128.392675 \nL 179.860576 103.450338 \nL 180.885369 122.30482 \nL 181.910163 111.316321 \nL 182.934956 120.996539 \nL 186.009336 104.878394 \nL 187.03413 123.142925 \nL 188.058923 117.599127 \nL 189.083716 109.29381 \nL 190.10851 114.661149 \nL 193.18289 124.341588 \nL 194.207683 113.125786 \nL 195.232477 117.28789 \nL 196.25727 100.24641 \nL 197.282064 108.050638 \nL 200.356444 119.891424 \nL 201.381237 107.123212 \nL 202.40603 121.884135 \nL 203.430824 110.384466 \nL 204.455617 125.45387 \nL 207.529997 121.894766 \nL 208.554791 116.01938 \nL 209.579584 118.391158 \nL 210.604378 119.810334 \nL 211.629171 111.431857 \nL 214.703551 115.248724 \nL 215.728345 104.498943 \nL 216.753138 127.492801 \nL 217.777931 111.915444 \nL 218.802725 113.189468 \nL 221.877105 115.231442 \nL 222.901898 117.381476 \nL 223.926692 109.907232 \nL 224.951485 116.76809 \nL 225.976278 118.118526 \nL 229.050659 121.592971 \nL 230.075452 115.581817 \nL 231.100245 122.65597 \nL 232.125039 114.540732 \nL 233.149832 117.935025 \nL 237.249006 120.89891 \nL 238.273799 123.701537 \nL 239.298592 80.207264 \nL 240.323386 107.60695 \nL 244.422559 85.856541 \nL 245.447353 133.59151 \nL 246.472146 97.113808 \nL 247.49694 112.622704 \nL 250.57132 124.425814 \nL 251.596113 117.435785 \nL 252.620907 106.576665 \nL 253.6457 105.640446 \nL 254.670493 102.94401 \nL 257.744873 109.494623 \nL 258.769667 124.135598 \nL 259.79446 92.509467 \nL 260.819254 117.097979 \nL 261.844047 129.074023 \nL 264.918427 126.65923 \nL 265.943221 108.687975 \nL 266.968014 120.569337 \nL 267.992807 117.623062 \nL 269.017601 102.116372 \nL 272.091981 129.000289 \nL 273.116774 100.652336 \nL 274.141568 128.900032 \nL 275.166361 118.36061 \nL 276.191154 121.823202 \nL 279.265535 130.642067 \nL 280.290328 108.092639 \nL 281.315121 107.346424 \nL 282.339915 111.817334 \nL 283.364708 111.914609 \nL 286.439088 99.029942 \nL 287.463882 116.821136 \nL 288.488675 109.280726 \nL 289.513468 115.271528 \nL 290.538262 114.2558 \nL 293.612642 100.105904 \nL 294.637435 112.617103 \nL 295.662229 84.011761 \nL 296.687022 122.67584 \nL 297.711816 99.309076 \nL 301.810989 128.568456 \nL 302.835783 132.535226 \nL 303.860576 130.165322 \nL 304.885369 114.024826 \nL 307.959749 118.058608 \nL 308.984543 109.564305 \nL 310.009336 122.793555 \nL 311.03413 106.429387 \nL 312.058923 121.968981 \nL 315.133303 122.215908 \nL 316.158097 108.884496 \nL 317.18289 104.224013 \nL 318.207683 116.852879 \nL 319.232477 107.376673 \nL 322.306857 115.732711 \nL 323.33165 125.78273 \nL 324.356444 113.929496 \nL 326.40603 115.490213 \nL 329.480411 110.973409 \nL 330.505204 121.761562 \nL 331.529997 114.690228 \nL 332.554791 112.783119 \nL 333.579584 118.283408 \nL 336.653964 111.921704 \nL 337.678758 115.663853 \nL 338.703551 107.094767 \nL 339.728345 112.025829 \nL 340.753138 114.929846 \nL 343.827518 111.549755 \nL 344.852311 125.797755 \nL 345.877105 116.448341 \nL 346.901898 117.028071 \nL 347.926692 108.98949 \nL 351.001072 113.918644 \nL 352.025865 113.61137 \nL 353.050659 112.376741 \nL 354.075452 115.726802 \nL 359.199419 111.424577 \nL 360.224212 112.721303 \nL 361.249006 116.775908 \nL 361.249006 116.775908 \n\" style=\"fill:none;stroke:#1f77b4;stroke-linecap:square;stroke-width:1.5;\"/>\n   </g>\n   <g id=\"line2d_19\">\n    <path clip-path=\"url(#pe290ea0349)\" d=\"M 56.885369 49.95308 \nL 57.910163 46.824754 \nL 58.934956 50.066049 \nL 59.959749 56.062954 \nL 60.984543 50.732923 \nL 64.058923 58.222176 \nL 65.083716 54.921352 \nL 66.10851 57.944351 \nL 67.133303 57.679826 \nL 68.158097 60.080039 \nL 71.232477 61.637417 \nL 72.25727 56.789346 \nL 73.282064 56.137911 \nL 74.306857 52.570718 \nL 75.33165 54.614606 \nL 78.40603 52.639687 \nL 79.430824 53.604038 \nL 80.455617 56.236481 \nL 81.480411 54.925404 \nL 82.505204 55.800478 \nL 85.579584 51.759316 \nL 86.604378 51.857173 \nL 87.629171 49.751458 \nL 88.653964 48.823375 \nL 93.777931 47.515332 \nL 94.802725 48.959333 \nL 95.827518 48.58501 \nL 96.852311 46.849747 \nL 99.926692 48.037114 \nL 100.951485 50.035735 \nL 101.976278 48.58441 \nL 103.001072 48.613988 \nL 104.025865 47.712879 \nL 107.100245 46.747453 \nL 108.125039 47.095549 \nL 109.149832 45.334761 \nL 110.174626 45.957977 \nL 111.199419 47.838751 \nL 114.273799 47.560338 \nL 115.298592 46.966553 \nL 116.323386 47.423938 \nL 117.348179 46.643257 \nL 121.447353 45.494128 \nL 122.472146 46.874808 \nL 123.49694 48.029258 \nL 124.521733 47.263632 \nL 125.546526 46.997545 \nL 128.620907 44.902754 \nL 129.6457 45.613073 \nL 130.670493 44.474188 \nL 131.695287 45.004267 \nL 132.72008 44.831871 \nL 136.819254 43.99002 \nL 137.844047 42.961669 \nL 138.86884 43.101669 \nL 139.893634 42.753063 \nL 142.968014 42.485211 \nL 143.992807 41.901986 \nL 145.017601 40.920928 \nL 146.042394 41.148846 \nL 147.067187 39.257997 \nL 150.141568 38.36574 \nL 151.166361 38.94455 \nL 152.191154 39.339033 \nL 153.215948 43.687043 \nL 154.240741 42.757523 \nL 157.315121 42.169137 \nL 158.339915 40.820117 \nL 159.364708 41.080906 \nL 160.389502 41.035425 \nL 161.414295 41.429942 \nL 164.488675 40.963467 \nL 165.513468 40.651808 \nL 166.538262 42.528383 \nL 167.563055 41.74974 \nL 168.587849 43.481006 \nL 171.662229 42.4478 \nL 172.687022 41.351102 \nL 174.736609 40.643771 \nL 178.835783 39.490352 \nL 179.860576 40.287967 \nL 180.885369 39.715756 \nL 181.910163 40.109979 \nL 182.934956 39.344229 \nL 186.009336 40.036131 \nL 187.03413 39.04492 \nL 188.058923 38.369532 \nL 189.083716 38.622206 \nL 195.232477 37.212491 \nL 196.25727 38.143426 \nL 197.282064 38.606868 \nL 200.356444 38.054557 \nL 201.381237 38.540456 \nL 202.40603 37.611773 \nL 203.430824 37.883395 \nL 204.455617 37.29716 \nL 208.554791 36.473137 \nL 210.604378 35.474093 \nL 214.703551 35.194128 \nL 215.728345 35.815805 \nL 216.753138 34.720443 \nL 217.777931 34.861732 \nL 218.802725 34.869407 \nL 221.877105 34.655005 \nL 222.901898 34.461691 \nL 223.926692 34.79557 \nL 230.075452 33.179241 \nL 231.100245 32.362292 \nL 232.125039 32.221784 \nL 233.149832 31.668081 \nL 237.249006 31.223486 \nL 238.273799 29.954461 \nL 239.298592 32.86473 \nL 240.323386 33.518519 \nL 244.422559 35.728113 \nL 245.447353 34.162223 \nL 246.472146 35.549129 \nL 247.49694 35.50401 \nL 251.596113 34.076467 \nL 252.620907 34.439211 \nL 253.6457 35.10098 \nL 254.670493 35.973768 \nL 257.744873 36.863976 \nL 258.769667 36.060214 \nL 259.79446 37.885659 \nL 260.819254 37.656757 \nL 261.844047 36.446525 \nL 264.918427 35.209138 \nL 265.943221 35.57487 \nL 266.968014 34.931064 \nL 267.992807 34.508169 \nL 269.017601 35.261456 \nL 272.091981 33.851278 \nL 273.116774 34.958661 \nL 274.141568 33.594529 \nL 276.191154 32.224704 \nL 279.265535 30.894588 \nL 281.315121 31.947921 \nL 282.339915 32.069809 \nL 283.364708 32.057459 \nL 286.439088 33.38315 \nL 287.463882 33.004242 \nL 288.488675 33.178596 \nL 289.513468 32.753923 \nL 290.538262 32.475057 \nL 293.612642 33.975973 \nL 294.637435 34.214496 \nL 295.662229 37.003499 \nL 296.687022 36.086113 \nL 297.711816 37.013823 \nL 300.786196 36.073696 \nL 301.810989 34.699411 \nL 303.860576 31.38995 \nL 304.885369 31.403013 \nL 307.959749 30.437995 \nL 308.984543 30.540085 \nL 310.009336 29.90727 \nL 311.03413 30.72183 \nL 312.058923 29.590823 \nL 315.133303 28.615289 \nL 316.158097 29.008652 \nL 317.18289 29.967456 \nL 318.207683 29.633305 \nL 319.232477 30.200365 \nL 322.306857 29.722933 \nL 323.33165 28.371909 \nL 324.356444 28.503362 \nL 326.40603 28.2917 \nL 329.480411 28.668876 \nL 330.505204 27.712868 \nL 331.529997 27.551644 \nL 332.554791 27.589225 \nL 333.579584 26.827097 \nL 336.653964 26.994206 \nL 337.678758 26.751653 \nL 338.703551 27.434997 \nL 343.827518 28.003201 \nL 344.852311 26.900583 \nL 345.877105 26.747295 \nL 346.901898 26.245073 \nL 347.926692 26.544257 \nL 352.025865 27.05275 \nL 353.050659 26.987075 \nL 354.075452 26.672858 \nL 360.224212 25.98571 \nL 361.249006 25.416941 \nL 361.249006 25.416941 \n\" style=\"fill:none;stroke:#ff7f0e;stroke-linecap:square;stroke-width:1.5;\"/>\n   </g>\n   <g id=\"line2d_20\">\n    <path clip-path=\"url(#pe290ea0349)\" d=\"M 56.885369 112.762381 \nL 65.083716 112.58278 \nL 68.158097 112.486413 \nL 74.306857 112.378494 \nL 75.33165 112.330706 \nL 93.777931 112.504135 \nL 101.976278 112.6028 \nL 109.149832 112.813967 \nL 111.199419 112.90622 \nL 138.86884 113.027038 \nL 181.910163 113.080048 \nL 254.670493 113.105917 \nL 361.249006 113.097689 \nL 361.249006 113.097689 \n\" style=\"fill:none;stroke:#2ca02c;stroke-linecap:square;stroke-width:1.5;\"/>\n   </g>\n   <g id=\"patch_3\">\n    <path d=\"M 41.667188 203.04 \nL 41.667188 7.2 \n\" style=\"fill:none;stroke:#000000;stroke-linecap:square;stroke-linejoin:miter;stroke-width:0.8;\"/>\n   </g>\n   <g id=\"patch_4\">\n    <path d=\"M 376.467188 203.04 \nL 376.467188 7.2 \n\" style=\"fill:none;stroke:#000000;stroke-linecap:square;stroke-linejoin:miter;stroke-width:0.8;\"/>\n   </g>\n   <g id=\"patch_5\">\n    <path d=\"M 41.667187 203.04 \nL 376.467187 203.04 \n\" style=\"fill:none;stroke:#000000;stroke-linecap:square;stroke-linejoin:miter;stroke-width:0.8;\"/>\n   </g>\n   <g id=\"patch_6\">\n    <path d=\"M 41.667187 7.2 \nL 376.467187 7.2 \n\" style=\"fill:none;stroke:#000000;stroke-linecap:square;stroke-linejoin:miter;stroke-width:0.8;\"/>\n   </g>\n   <g id=\"legend_1\">\n    <g id=\"patch_7\">\n     <path d=\"M 289 198.04 \nL 369.467188 198.04 \nQ 371.467188 198.04 371.467188 196.04 \nL 371.467188 153.005625 \nQ 371.467188 151.005625 369.467188 151.005625 \nL 289 151.005625 \nQ 287 151.005625 287 153.005625 \nL 287 196.04 \nQ 287 198.04 289 198.04 \nz\n\" style=\"fill:#ffffff;opacity:0.8;stroke:#cccccc;stroke-linejoin:miter;\"/>\n    </g>\n    <g id=\"line2d_21\">\n     <path d=\"M 291 159.104062 \nL 311 159.104062 \n\" style=\"fill:none;stroke:#1f77b4;stroke-linecap:square;stroke-width:1.5;\"/>\n    </g>\n    <g id=\"line2d_22\"/>\n    <g id=\"text_18\">\n     <!-- return -->\n     <g transform=\"translate(319 162.604062)scale(0.1 -0.1)\">\n      <defs>\n       <path d=\"M 41.109375 46.296875 \nQ 39.59375 47.171875 37.8125 47.578125 \nQ 36.03125 48 33.890625 48 \nQ 26.265625 48 22.1875 43.046875 \nQ 18.109375 38.09375 18.109375 28.8125 \nL 18.109375 0 \nL 9.078125 0 \nL 9.078125 54.6875 \nL 18.109375 54.6875 \nL 18.109375 46.1875 \nQ 20.953125 51.171875 25.484375 53.578125 \nQ 30.03125 56 36.53125 56 \nQ 37.453125 56 38.578125 55.875 \nQ 39.703125 55.765625 41.0625 55.515625 \nz\n\" id=\"DejaVuSans-114\"/>\n       <path d=\"M 56.203125 29.59375 \nL 56.203125 25.203125 \nL 14.890625 25.203125 \nQ 15.484375 15.921875 20.484375 11.0625 \nQ 25.484375 6.203125 34.421875 6.203125 \nQ 39.59375 6.203125 44.453125 7.46875 \nQ 49.3125 8.734375 54.109375 11.28125 \nL 54.109375 2.78125 \nQ 49.265625 0.734375 44.1875 -0.34375 \nQ 39.109375 -1.421875 33.890625 -1.421875 \nQ 20.796875 -1.421875 13.15625 6.1875 \nQ 5.515625 13.8125 5.515625 26.8125 \nQ 5.515625 40.234375 12.765625 48.109375 \nQ 20.015625 56 32.328125 56 \nQ 43.359375 56 49.78125 48.890625 \nQ 56.203125 41.796875 56.203125 29.59375 \nz\nM 47.21875 32.234375 \nQ 47.125 39.59375 43.09375 43.984375 \nQ 39.0625 48.390625 32.421875 48.390625 \nQ 24.90625 48.390625 20.390625 44.140625 \nQ 15.875 39.890625 15.1875 32.171875 \nz\n\" id=\"DejaVuSans-101\"/>\n       <path d=\"M 18.3125 70.21875 \nL 18.3125 54.6875 \nL 36.8125 54.6875 \nL 36.8125 47.703125 \nL 18.3125 47.703125 \nL 18.3125 18.015625 \nQ 18.3125 11.328125 20.140625 9.421875 \nQ 21.96875 7.515625 27.59375 7.515625 \nL 36.8125 7.515625 \nL 36.8125 0 \nL 27.59375 0 \nQ 17.1875 0 13.234375 3.875 \nQ 9.28125 7.765625 9.28125 18.015625 \nL 9.28125 47.703125 \nL 2.6875 47.703125 \nL 2.6875 54.6875 \nL 9.28125 54.6875 \nL 9.28125 70.21875 \nz\n\" id=\"DejaVuSans-116\"/>\n       <path d=\"M 8.5 21.578125 \nL 8.5 54.6875 \nL 17.484375 54.6875 \nL 17.484375 21.921875 \nQ 17.484375 14.15625 20.5 10.265625 \nQ 23.53125 6.390625 29.59375 6.390625 \nQ 36.859375 6.390625 41.078125 11.03125 \nQ 45.3125 15.671875 45.3125 23.6875 \nL 45.3125 54.6875 \nL 54.296875 54.6875 \nL 54.296875 0 \nL 45.3125 0 \nL 45.3125 8.40625 \nQ 42.046875 3.421875 37.71875 1 \nQ 33.40625 -1.421875 27.6875 -1.421875 \nQ 18.265625 -1.421875 13.375 4.4375 \nQ 8.5 10.296875 8.5 21.578125 \nz\nM 31.109375 56 \nz\n\" id=\"DejaVuSans-117\"/>\n       <path d=\"M 54.890625 33.015625 \nL 54.890625 0 \nL 45.90625 0 \nL 45.90625 32.71875 \nQ 45.90625 40.484375 42.875 44.328125 \nQ 39.84375 48.1875 33.796875 48.1875 \nQ 26.515625 48.1875 22.3125 43.546875 \nQ 18.109375 38.921875 18.109375 30.90625 \nL 18.109375 0 \nL 9.078125 0 \nL 9.078125 54.6875 \nL 18.109375 54.6875 \nL 18.109375 46.1875 \nQ 21.34375 51.125 25.703125 53.5625 \nQ 30.078125 56 35.796875 56 \nQ 45.21875 56 50.046875 50.171875 \nQ 54.890625 44.34375 54.890625 33.015625 \nz\n\" id=\"DejaVuSans-110\"/>\n      </defs>\n      <use xlink:href=\"#DejaVuSans-114\"/>\n      <use x=\"38.863281\" xlink:href=\"#DejaVuSans-101\"/>\n      <use x=\"100.386719\" xlink:href=\"#DejaVuSans-116\"/>\n      <use x=\"139.595703\" xlink:href=\"#DejaVuSans-117\"/>\n      <use x=\"202.974609\" xlink:href=\"#DejaVuSans-114\"/>\n      <use x=\"242.337891\" xlink:href=\"#DejaVuSans-110\"/>\n     </g>\n    </g>\n    <g id=\"line2d_23\">\n     <path d=\"M 291 173.782187 \nL 311 173.782187 \n\" style=\"fill:none;stroke:#ff7f0e;stroke-linecap:square;stroke-width:1.5;\"/>\n    </g>\n    <g id=\"line2d_24\"/>\n    <g id=\"text_19\">\n     <!-- US Equity -->\n     <g transform=\"translate(319 177.282187)scale(0.1 -0.1)\">\n      <defs>\n       <path d=\"M 8.6875 72.90625 \nL 18.609375 72.90625 \nL 18.609375 28.609375 \nQ 18.609375 16.890625 22.84375 11.734375 \nQ 27.09375 6.59375 36.625 6.59375 \nQ 46.09375 6.59375 50.34375 11.734375 \nQ 54.59375 16.890625 54.59375 28.609375 \nL 54.59375 72.90625 \nL 64.5 72.90625 \nL 64.5 27.390625 \nQ 64.5 13.140625 57.4375 5.859375 \nQ 50.390625 -1.421875 36.625 -1.421875 \nQ 22.796875 -1.421875 15.734375 5.859375 \nQ 8.6875 13.140625 8.6875 27.390625 \nz\n\" id=\"DejaVuSans-85\"/>\n       <path d=\"M 53.515625 70.515625 \nL 53.515625 60.890625 \nQ 47.90625 63.578125 42.921875 64.890625 \nQ 37.9375 66.21875 33.296875 66.21875 \nQ 25.25 66.21875 20.875 63.09375 \nQ 16.5 59.96875 16.5 54.203125 \nQ 16.5 49.359375 19.40625 46.890625 \nQ 22.3125 44.4375 30.421875 42.921875 \nL 36.375 41.703125 \nQ 47.40625 39.59375 52.65625 34.296875 \nQ 57.90625 29 57.90625 20.125 \nQ 57.90625 9.515625 50.796875 4.046875 \nQ 43.703125 -1.421875 29.984375 -1.421875 \nQ 24.8125 -1.421875 18.96875 -0.25 \nQ 13.140625 0.921875 6.890625 3.21875 \nL 6.890625 13.375 \nQ 12.890625 10.015625 18.65625 8.296875 \nQ 24.421875 6.59375 29.984375 6.59375 \nQ 38.421875 6.59375 43.015625 9.90625 \nQ 47.609375 13.234375 47.609375 19.390625 \nQ 47.609375 24.75 44.3125 27.78125 \nQ 41.015625 30.8125 33.5 32.328125 \nL 27.484375 33.5 \nQ 16.453125 35.6875 11.515625 40.375 \nQ 6.59375 45.0625 6.59375 53.421875 \nQ 6.59375 63.09375 13.40625 68.65625 \nQ 20.21875 74.21875 32.171875 74.21875 \nQ 37.3125 74.21875 42.625 73.28125 \nQ 47.953125 72.359375 53.515625 70.515625 \nz\n\" id=\"DejaVuSans-83\"/>\n       <path id=\"DejaVuSans-32\"/>\n       <path d=\"M 9.8125 72.90625 \nL 55.90625 72.90625 \nL 55.90625 64.59375 \nL 19.671875 64.59375 \nL 19.671875 43.015625 \nL 54.390625 43.015625 \nL 54.390625 34.71875 \nL 19.671875 34.71875 \nL 19.671875 8.296875 \nL 56.78125 8.296875 \nL 56.78125 0 \nL 9.8125 0 \nz\n\" id=\"DejaVuSans-69\"/>\n       <path d=\"M 14.796875 27.296875 \nQ 14.796875 17.390625 18.875 11.75 \nQ 22.953125 6.109375 30.078125 6.109375 \nQ 37.203125 6.109375 41.296875 11.75 \nQ 45.40625 17.390625 45.40625 27.296875 \nQ 45.40625 37.203125 41.296875 42.84375 \nQ 37.203125 48.484375 30.078125 48.484375 \nQ 22.953125 48.484375 18.875 42.84375 \nQ 14.796875 37.203125 14.796875 27.296875 \nz\nM 45.40625 8.203125 \nQ 42.578125 3.328125 38.25 0.953125 \nQ 33.9375 -1.421875 27.875 -1.421875 \nQ 17.96875 -1.421875 11.734375 6.484375 \nQ 5.515625 14.40625 5.515625 27.296875 \nQ 5.515625 40.1875 11.734375 48.09375 \nQ 17.96875 56 27.875 56 \nQ 33.9375 56 38.25 53.625 \nQ 42.578125 51.265625 45.40625 46.390625 \nL 45.40625 54.6875 \nL 54.390625 54.6875 \nL 54.390625 -20.796875 \nL 45.40625 -20.796875 \nz\n\" id=\"DejaVuSans-113\"/>\n       <path d=\"M 9.421875 54.6875 \nL 18.40625 54.6875 \nL 18.40625 0 \nL 9.421875 0 \nz\nM 9.421875 75.984375 \nL 18.40625 75.984375 \nL 18.40625 64.59375 \nL 9.421875 64.59375 \nz\n\" id=\"DejaVuSans-105\"/>\n       <path d=\"M 32.171875 -5.078125 \nQ 28.375 -14.84375 24.75 -17.8125 \nQ 21.140625 -20.796875 15.09375 -20.796875 \nL 7.90625 -20.796875 \nL 7.90625 -13.28125 \nL 13.1875 -13.28125 \nQ 16.890625 -13.28125 18.9375 -11.515625 \nQ 21 -9.765625 23.484375 -3.21875 \nL 25.09375 0.875 \nL 2.984375 54.6875 \nL 12.5 54.6875 \nL 29.59375 11.921875 \nL 46.6875 54.6875 \nL 56.203125 54.6875 \nz\n\" id=\"DejaVuSans-121\"/>\n      </defs>\n      <use xlink:href=\"#DejaVuSans-85\"/>\n      <use x=\"73.193359\" xlink:href=\"#DejaVuSans-83\"/>\n      <use x=\"136.669922\" xlink:href=\"#DejaVuSans-32\"/>\n      <use x=\"168.457031\" xlink:href=\"#DejaVuSans-69\"/>\n      <use x=\"231.640625\" xlink:href=\"#DejaVuSans-113\"/>\n      <use x=\"295.117188\" xlink:href=\"#DejaVuSans-117\"/>\n      <use x=\"358.496094\" xlink:href=\"#DejaVuSans-105\"/>\n      <use x=\"386.279297\" xlink:href=\"#DejaVuSans-116\"/>\n      <use x=\"425.488281\" xlink:href=\"#DejaVuSans-121\"/>\n     </g>\n    </g>\n    <g id=\"line2d_25\">\n     <path d=\"M 291 188.460312 \nL 311 188.460312 \n\" style=\"fill:none;stroke:#2ca02c;stroke-linecap:square;stroke-width:1.5;\"/>\n    </g>\n    <g id=\"line2d_26\"/>\n    <g id=\"text_20\">\n     <!-- cash -->\n     <g transform=\"translate(319 191.960312)scale(0.1 -0.1)\">\n      <defs>\n       <path d=\"M 48.78125 52.59375 \nL 48.78125 44.1875 \nQ 44.96875 46.296875 41.140625 47.34375 \nQ 37.3125 48.390625 33.40625 48.390625 \nQ 24.65625 48.390625 19.8125 42.84375 \nQ 14.984375 37.3125 14.984375 27.296875 \nQ 14.984375 17.28125 19.8125 11.734375 \nQ 24.65625 6.203125 33.40625 6.203125 \nQ 37.3125 6.203125 41.140625 7.25 \nQ 44.96875 8.296875 48.78125 10.40625 \nL 48.78125 2.09375 \nQ 45.015625 0.34375 40.984375 -0.53125 \nQ 36.96875 -1.421875 32.421875 -1.421875 \nQ 20.0625 -1.421875 12.78125 6.34375 \nQ 5.515625 14.109375 5.515625 27.296875 \nQ 5.515625 40.671875 12.859375 48.328125 \nQ 20.21875 56 33.015625 56 \nQ 37.15625 56 41.109375 55.140625 \nQ 45.0625 54.296875 48.78125 52.59375 \nz\n\" id=\"DejaVuSans-99\"/>\n       <path d=\"M 34.28125 27.484375 \nQ 23.390625 27.484375 19.1875 25 \nQ 14.984375 22.515625 14.984375 16.5 \nQ 14.984375 11.71875 18.140625 8.90625 \nQ 21.296875 6.109375 26.703125 6.109375 \nQ 34.1875 6.109375 38.703125 11.40625 \nQ 43.21875 16.703125 43.21875 25.484375 \nL 43.21875 27.484375 \nz\nM 52.203125 31.203125 \nL 52.203125 0 \nL 43.21875 0 \nL 43.21875 8.296875 \nQ 40.140625 3.328125 35.546875 0.953125 \nQ 30.953125 -1.421875 24.3125 -1.421875 \nQ 15.921875 -1.421875 10.953125 3.296875 \nQ 6 8.015625 6 15.921875 \nQ 6 25.140625 12.171875 29.828125 \nQ 18.359375 34.515625 30.609375 34.515625 \nL 43.21875 34.515625 \nL 43.21875 35.40625 \nQ 43.21875 41.609375 39.140625 45 \nQ 35.0625 48.390625 27.6875 48.390625 \nQ 23 48.390625 18.546875 47.265625 \nQ 14.109375 46.140625 10.015625 43.890625 \nL 10.015625 52.203125 \nQ 14.9375 54.109375 19.578125 55.046875 \nQ 24.21875 56 28.609375 56 \nQ 40.484375 56 46.34375 49.84375 \nQ 52.203125 43.703125 52.203125 31.203125 \nz\n\" id=\"DejaVuSans-97\"/>\n       <path d=\"M 44.28125 53.078125 \nL 44.28125 44.578125 \nQ 40.484375 46.53125 36.375 47.5 \nQ 32.28125 48.484375 27.875 48.484375 \nQ 21.1875 48.484375 17.84375 46.4375 \nQ 14.5 44.390625 14.5 40.28125 \nQ 14.5 37.15625 16.890625 35.375 \nQ 19.28125 33.59375 26.515625 31.984375 \nL 29.59375 31.296875 \nQ 39.15625 29.25 43.1875 25.515625 \nQ 47.21875 21.78125 47.21875 15.09375 \nQ 47.21875 7.46875 41.1875 3.015625 \nQ 35.15625 -1.421875 24.609375 -1.421875 \nQ 20.21875 -1.421875 15.453125 -0.5625 \nQ 10.6875 0.296875 5.421875 2 \nL 5.421875 11.28125 \nQ 10.40625 8.6875 15.234375 7.390625 \nQ 20.0625 6.109375 24.8125 6.109375 \nQ 31.15625 6.109375 34.5625 8.28125 \nQ 37.984375 10.453125 37.984375 14.40625 \nQ 37.984375 18.0625 35.515625 20.015625 \nQ 33.0625 21.96875 24.703125 23.78125 \nL 21.578125 24.515625 \nQ 13.234375 26.265625 9.515625 29.90625 \nQ 5.8125 33.546875 5.8125 39.890625 \nQ 5.8125 47.609375 11.28125 51.796875 \nQ 16.75 56 26.8125 56 \nQ 31.78125 56 36.171875 55.265625 \nQ 40.578125 54.546875 44.28125 53.078125 \nz\n\" id=\"DejaVuSans-115\"/>\n       <path d=\"M 54.890625 33.015625 \nL 54.890625 0 \nL 45.90625 0 \nL 45.90625 32.71875 \nQ 45.90625 40.484375 42.875 44.328125 \nQ 39.84375 48.1875 33.796875 48.1875 \nQ 26.515625 48.1875 22.3125 43.546875 \nQ 18.109375 38.921875 18.109375 30.90625 \nL 18.109375 0 \nL 9.078125 0 \nL 9.078125 75.984375 \nL 18.109375 75.984375 \nL 18.109375 46.1875 \nQ 21.34375 51.125 25.703125 53.5625 \nQ 30.078125 56 35.796875 56 \nQ 45.21875 56 50.046875 50.171875 \nQ 54.890625 44.34375 54.890625 33.015625 \nz\n\" id=\"DejaVuSans-104\"/>\n      </defs>\n      <use xlink:href=\"#DejaVuSans-99\"/>\n      <use x=\"54.980469\" xlink:href=\"#DejaVuSans-97\"/>\n      <use x=\"116.259766\" xlink:href=\"#DejaVuSans-115\"/>\n      <use x=\"168.359375\" xlink:href=\"#DejaVuSans-104\"/>\n     </g>\n    </g>\n   </g>\n  </g>\n </g>\n <defs>\n  <clipPath id=\"pe290ea0349\">\n   <rect height=\"195.84\" width=\"334.8\" x=\"41.667188\" y=\"7.2\"/>\n  </clipPath>\n </defs>\n</svg>\n",
            "image/png": "[encoded data removed]"
          },
          "metadata": {
            "needs_background": "light"
          }
        }
      ],
      "source": [
        "import matplotlib.pyplot as plt\n",
        "compared_df.plot()\n",
        "plt.legend()"
      ]
    },
    {
      "cell_type": "code",
      "execution_count": null,
      "metadata": {},
      "outputs": [],
      "source": []
    }
  ]
}